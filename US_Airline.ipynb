{
 "cells": [
  {
   "attachments": {},
   "cell_type": "markdown",
   "metadata": {},
   "source": [
    "## Import modules"
   ]
  },
  {
   "cell_type": "code",
   "execution_count": 47,
   "metadata": {},
   "outputs": [],
   "source": [
    "import pandas as pd\n",
    "import numpy as np\n",
    "import matplotlib.pyplot as plt\n",
    "from scipy.stats import pearsonr\n",
    "from sklearn.model_selection import train_test_split\n",
    "from sklearn.linear_model import LogisticRegression\n",
    "from sklearn.metrics import confusion_matrix, classification_report, roc_auc_score, roc_curve"
   ]
  },
  {
   "attachments": {},
   "cell_type": "markdown",
   "metadata": {},
   "source": [
    "## Import data"
   ]
  },
  {
   "cell_type": "code",
   "execution_count": 2,
   "metadata": {},
   "outputs": [
    {
     "name": "stderr",
     "output_type": "stream",
     "text": [
      "C:\\Users\\user\\AppData\\Local\\Temp\\ipykernel_5092\\38804688.py:2: DtypeWarning: Columns (22) have mixed types. Specify dtype option on import or set low_memory=False.\n",
      "  df2 = pd.read_csv(\"2003.csv\")\n"
     ]
    }
   ],
   "source": [
    "df1 = pd.read_csv(\"2002.csv\", encoding = \"ISO-8859-1\")\n",
    "df2 = pd.read_csv(\"2003.csv\")\n",
    "df = pd.concat([df1, df2], ignore_index=True)\n",
    "airports = pd.read_csv('airports.csv')\n",
    "carriers = pd.read_csv('carriers.csv')\n",
    "planedata = pd.read_csv('plane-data.csv')\n",
    "variabledescriptions = pd.read_csv('variable-descriptions.csv')"
   ]
  },
  {
   "attachments": {},
   "cell_type": "markdown",
   "metadata": {},
   "source": [
    "Investigate the first and last five row of **df** using `head()` and `tail()`function"
   ]
  },
  {
   "cell_type": "code",
   "execution_count": 5,
   "metadata": {},
   "outputs": [
    {
     "data": {
      "text/html": [
       "<div>\n",
       "<style scoped>\n",
       "    .dataframe tbody tr th:only-of-type {\n",
       "        vertical-align: middle;\n",
       "    }\n",
       "\n",
       "    .dataframe tbody tr th {\n",
       "        vertical-align: top;\n",
       "    }\n",
       "\n",
       "    .dataframe thead th {\n",
       "        text-align: right;\n",
       "    }\n",
       "</style>\n",
       "<table border=\"1\" class=\"dataframe\">\n",
       "  <thead>\n",
       "    <tr style=\"text-align: right;\">\n",
       "      <th></th>\n",
       "      <th>Year</th>\n",
       "      <th>Month</th>\n",
       "      <th>DayofMonth</th>\n",
       "      <th>DayOfWeek</th>\n",
       "      <th>DepTime</th>\n",
       "      <th>CRSDepTime</th>\n",
       "      <th>ArrTime</th>\n",
       "      <th>CRSArrTime</th>\n",
       "      <th>UniqueCarrier</th>\n",
       "      <th>FlightNum</th>\n",
       "      <th>...</th>\n",
       "      <th>TaxiIn</th>\n",
       "      <th>TaxiOut</th>\n",
       "      <th>Cancelled</th>\n",
       "      <th>CancellationCode</th>\n",
       "      <th>Diverted</th>\n",
       "      <th>CarrierDelay</th>\n",
       "      <th>WeatherDelay</th>\n",
       "      <th>NASDelay</th>\n",
       "      <th>SecurityDelay</th>\n",
       "      <th>LateAircraftDelay</th>\n",
       "    </tr>\n",
       "  </thead>\n",
       "  <tbody>\n",
       "    <tr>\n",
       "      <th>0</th>\n",
       "      <td>2002</td>\n",
       "      <td>1</td>\n",
       "      <td>13</td>\n",
       "      <td>7</td>\n",
       "      <td>2231.0</td>\n",
       "      <td>2235</td>\n",
       "      <td>2342.0</td>\n",
       "      <td>2353</td>\n",
       "      <td>US</td>\n",
       "      <td>723</td>\n",
       "      <td>...</td>\n",
       "      <td>3</td>\n",
       "      <td>13</td>\n",
       "      <td>0</td>\n",
       "      <td>NaN</td>\n",
       "      <td>0</td>\n",
       "      <td>NaN</td>\n",
       "      <td>NaN</td>\n",
       "      <td>NaN</td>\n",
       "      <td>NaN</td>\n",
       "      <td>NaN</td>\n",
       "    </tr>\n",
       "    <tr>\n",
       "      <th>1</th>\n",
       "      <td>2002</td>\n",
       "      <td>1</td>\n",
       "      <td>14</td>\n",
       "      <td>1</td>\n",
       "      <td>2230.0</td>\n",
       "      <td>2235</td>\n",
       "      <td>2347.0</td>\n",
       "      <td>2353</td>\n",
       "      <td>US</td>\n",
       "      <td>723</td>\n",
       "      <td>...</td>\n",
       "      <td>3</td>\n",
       "      <td>14</td>\n",
       "      <td>0</td>\n",
       "      <td>NaN</td>\n",
       "      <td>0</td>\n",
       "      <td>NaN</td>\n",
       "      <td>NaN</td>\n",
       "      <td>NaN</td>\n",
       "      <td>NaN</td>\n",
       "      <td>NaN</td>\n",
       "    </tr>\n",
       "    <tr>\n",
       "      <th>2</th>\n",
       "      <td>2002</td>\n",
       "      <td>1</td>\n",
       "      <td>15</td>\n",
       "      <td>2</td>\n",
       "      <td>2230.0</td>\n",
       "      <td>2235</td>\n",
       "      <td>2342.0</td>\n",
       "      <td>2353</td>\n",
       "      <td>US</td>\n",
       "      <td>723</td>\n",
       "      <td>...</td>\n",
       "      <td>3</td>\n",
       "      <td>14</td>\n",
       "      <td>0</td>\n",
       "      <td>NaN</td>\n",
       "      <td>0</td>\n",
       "      <td>NaN</td>\n",
       "      <td>NaN</td>\n",
       "      <td>NaN</td>\n",
       "      <td>NaN</td>\n",
       "      <td>NaN</td>\n",
       "    </tr>\n",
       "    <tr>\n",
       "      <th>3</th>\n",
       "      <td>2002</td>\n",
       "      <td>1</td>\n",
       "      <td>16</td>\n",
       "      <td>3</td>\n",
       "      <td>2230.0</td>\n",
       "      <td>2235</td>\n",
       "      <td>2340.0</td>\n",
       "      <td>2353</td>\n",
       "      <td>US</td>\n",
       "      <td>723</td>\n",
       "      <td>...</td>\n",
       "      <td>3</td>\n",
       "      <td>10</td>\n",
       "      <td>0</td>\n",
       "      <td>NaN</td>\n",
       "      <td>0</td>\n",
       "      <td>NaN</td>\n",
       "      <td>NaN</td>\n",
       "      <td>NaN</td>\n",
       "      <td>NaN</td>\n",
       "      <td>NaN</td>\n",
       "    </tr>\n",
       "    <tr>\n",
       "      <th>4</th>\n",
       "      <td>2002</td>\n",
       "      <td>1</td>\n",
       "      <td>17</td>\n",
       "      <td>4</td>\n",
       "      <td>2227.0</td>\n",
       "      <td>2235</td>\n",
       "      <td>2345.0</td>\n",
       "      <td>2353</td>\n",
       "      <td>US</td>\n",
       "      <td>723</td>\n",
       "      <td>...</td>\n",
       "      <td>5</td>\n",
       "      <td>13</td>\n",
       "      <td>0</td>\n",
       "      <td>NaN</td>\n",
       "      <td>0</td>\n",
       "      <td>NaN</td>\n",
       "      <td>NaN</td>\n",
       "      <td>NaN</td>\n",
       "      <td>NaN</td>\n",
       "      <td>NaN</td>\n",
       "    </tr>\n",
       "  </tbody>\n",
       "</table>\n",
       "<p>5 rows × 29 columns</p>\n",
       "</div>"
      ],
      "text/plain": [
       "   Year  Month  DayofMonth  DayOfWeek  DepTime  CRSDepTime  ArrTime  \\\n",
       "0  2002      1          13          7   2231.0        2235   2342.0   \n",
       "1  2002      1          14          1   2230.0        2235   2347.0   \n",
       "2  2002      1          15          2   2230.0        2235   2342.0   \n",
       "3  2002      1          16          3   2230.0        2235   2340.0   \n",
       "4  2002      1          17          4   2227.0        2235   2345.0   \n",
       "\n",
       "   CRSArrTime UniqueCarrier  FlightNum  ... TaxiIn  TaxiOut  Cancelled  \\\n",
       "0        2353            US        723  ...      3       13          0   \n",
       "1        2353            US        723  ...      3       14          0   \n",
       "2        2353            US        723  ...      3       14          0   \n",
       "3        2353            US        723  ...      3       10          0   \n",
       "4        2353            US        723  ...      5       13          0   \n",
       "\n",
       "   CancellationCode  Diverted  CarrierDelay WeatherDelay NASDelay  \\\n",
       "0               NaN         0           NaN          NaN      NaN   \n",
       "1               NaN         0           NaN          NaN      NaN   \n",
       "2               NaN         0           NaN          NaN      NaN   \n",
       "3               NaN         0           NaN          NaN      NaN   \n",
       "4               NaN         0           NaN          NaN      NaN   \n",
       "\n",
       "   SecurityDelay  LateAircraftDelay  \n",
       "0            NaN                NaN  \n",
       "1            NaN                NaN  \n",
       "2            NaN                NaN  \n",
       "3            NaN                NaN  \n",
       "4            NaN                NaN  \n",
       "\n",
       "[5 rows x 29 columns]"
      ]
     },
     "execution_count": 5,
     "metadata": {},
     "output_type": "execute_result"
    }
   ],
   "source": [
    "# print the first five rows\n",
    "df.head()"
   ]
  },
  {
   "cell_type": "code",
   "execution_count": 6,
   "metadata": {},
   "outputs": [
    {
     "data": {
      "text/html": [
       "<div>\n",
       "<style scoped>\n",
       "    .dataframe tbody tr th:only-of-type {\n",
       "        vertical-align: middle;\n",
       "    }\n",
       "\n",
       "    .dataframe tbody tr th {\n",
       "        vertical-align: top;\n",
       "    }\n",
       "\n",
       "    .dataframe thead th {\n",
       "        text-align: right;\n",
       "    }\n",
       "</style>\n",
       "<table border=\"1\" class=\"dataframe\">\n",
       "  <thead>\n",
       "    <tr style=\"text-align: right;\">\n",
       "      <th></th>\n",
       "      <th>Year</th>\n",
       "      <th>Month</th>\n",
       "      <th>DayofMonth</th>\n",
       "      <th>DayOfWeek</th>\n",
       "      <th>DepTime</th>\n",
       "      <th>CRSDepTime</th>\n",
       "      <th>ArrTime</th>\n",
       "      <th>CRSArrTime</th>\n",
       "      <th>UniqueCarrier</th>\n",
       "      <th>FlightNum</th>\n",
       "      <th>...</th>\n",
       "      <th>TaxiIn</th>\n",
       "      <th>TaxiOut</th>\n",
       "      <th>Cancelled</th>\n",
       "      <th>CancellationCode</th>\n",
       "      <th>Diverted</th>\n",
       "      <th>CarrierDelay</th>\n",
       "      <th>WeatherDelay</th>\n",
       "      <th>NASDelay</th>\n",
       "      <th>SecurityDelay</th>\n",
       "      <th>LateAircraftDelay</th>\n",
       "    </tr>\n",
       "  </thead>\n",
       "  <tbody>\n",
       "    <tr>\n",
       "      <th>11759894</th>\n",
       "      <td>2003</td>\n",
       "      <td>12</td>\n",
       "      <td>5</td>\n",
       "      <td>5</td>\n",
       "      <td>1126.0</td>\n",
       "      <td>1110</td>\n",
       "      <td>1326.0</td>\n",
       "      <td>1239</td>\n",
       "      <td>DL</td>\n",
       "      <td>794</td>\n",
       "      <td>...</td>\n",
       "      <td>31</td>\n",
       "      <td>20</td>\n",
       "      <td>0</td>\n",
       "      <td>NaN</td>\n",
       "      <td>0</td>\n",
       "      <td>0.0</td>\n",
       "      <td>0.0</td>\n",
       "      <td>31.0</td>\n",
       "      <td>0.0</td>\n",
       "      <td>16.0</td>\n",
       "    </tr>\n",
       "    <tr>\n",
       "      <th>11759895</th>\n",
       "      <td>2003</td>\n",
       "      <td>12</td>\n",
       "      <td>5</td>\n",
       "      <td>5</td>\n",
       "      <td>2100.0</td>\n",
       "      <td>2010</td>\n",
       "      <td>2240.0</td>\n",
       "      <td>2146</td>\n",
       "      <td>DL</td>\n",
       "      <td>798</td>\n",
       "      <td>...</td>\n",
       "      <td>8</td>\n",
       "      <td>21</td>\n",
       "      <td>0</td>\n",
       "      <td>NaN</td>\n",
       "      <td>0</td>\n",
       "      <td>3.0</td>\n",
       "      <td>0.0</td>\n",
       "      <td>4.0</td>\n",
       "      <td>0.0</td>\n",
       "      <td>47.0</td>\n",
       "    </tr>\n",
       "    <tr>\n",
       "      <th>11759896</th>\n",
       "      <td>2003</td>\n",
       "      <td>12</td>\n",
       "      <td>5</td>\n",
       "      <td>5</td>\n",
       "      <td>1142.0</td>\n",
       "      <td>1145</td>\n",
       "      <td>1217.0</td>\n",
       "      <td>1222</td>\n",
       "      <td>DL</td>\n",
       "      <td>799</td>\n",
       "      <td>...</td>\n",
       "      <td>4</td>\n",
       "      <td>15</td>\n",
       "      <td>0</td>\n",
       "      <td>NaN</td>\n",
       "      <td>0</td>\n",
       "      <td>0.0</td>\n",
       "      <td>0.0</td>\n",
       "      <td>0.0</td>\n",
       "      <td>0.0</td>\n",
       "      <td>0.0</td>\n",
       "    </tr>\n",
       "    <tr>\n",
       "      <th>11759897</th>\n",
       "      <td>2003</td>\n",
       "      <td>12</td>\n",
       "      <td>5</td>\n",
       "      <td>5</td>\n",
       "      <td>623.0</td>\n",
       "      <td>620</td>\n",
       "      <td>911.0</td>\n",
       "      <td>908</td>\n",
       "      <td>DL</td>\n",
       "      <td>800</td>\n",
       "      <td>...</td>\n",
       "      <td>6</td>\n",
       "      <td>14</td>\n",
       "      <td>0</td>\n",
       "      <td>NaN</td>\n",
       "      <td>0</td>\n",
       "      <td>0.0</td>\n",
       "      <td>0.0</td>\n",
       "      <td>0.0</td>\n",
       "      <td>0.0</td>\n",
       "      <td>0.0</td>\n",
       "    </tr>\n",
       "    <tr>\n",
       "      <th>11759898</th>\n",
       "      <td>2003</td>\n",
       "      <td>12</td>\n",
       "      <td>5</td>\n",
       "      <td>5</td>\n",
       "      <td>1024.0</td>\n",
       "      <td>1025</td>\n",
       "      <td>1626.0</td>\n",
       "      <td>1627</td>\n",
       "      <td>DL</td>\n",
       "      <td>800</td>\n",
       "      <td>...</td>\n",
       "      <td>6</td>\n",
       "      <td>21</td>\n",
       "      <td>0</td>\n",
       "      <td>NaN</td>\n",
       "      <td>0</td>\n",
       "      <td>0.0</td>\n",
       "      <td>0.0</td>\n",
       "      <td>0.0</td>\n",
       "      <td>0.0</td>\n",
       "      <td>0.0</td>\n",
       "    </tr>\n",
       "  </tbody>\n",
       "</table>\n",
       "<p>5 rows × 29 columns</p>\n",
       "</div>"
      ],
      "text/plain": [
       "          Year  Month  DayofMonth  DayOfWeek  DepTime  CRSDepTime  ArrTime  \\\n",
       "11759894  2003     12           5          5   1126.0        1110   1326.0   \n",
       "11759895  2003     12           5          5   2100.0        2010   2240.0   \n",
       "11759896  2003     12           5          5   1142.0        1145   1217.0   \n",
       "11759897  2003     12           5          5    623.0         620    911.0   \n",
       "11759898  2003     12           5          5   1024.0        1025   1626.0   \n",
       "\n",
       "          CRSArrTime UniqueCarrier  FlightNum  ... TaxiIn  TaxiOut  Cancelled  \\\n",
       "11759894        1239            DL        794  ...     31       20          0   \n",
       "11759895        2146            DL        798  ...      8       21          0   \n",
       "11759896        1222            DL        799  ...      4       15          0   \n",
       "11759897         908            DL        800  ...      6       14          0   \n",
       "11759898        1627            DL        800  ...      6       21          0   \n",
       "\n",
       "          CancellationCode  Diverted  CarrierDelay WeatherDelay NASDelay  \\\n",
       "11759894               NaN         0           0.0          0.0     31.0   \n",
       "11759895               NaN         0           3.0          0.0      4.0   \n",
       "11759896               NaN         0           0.0          0.0      0.0   \n",
       "11759897               NaN         0           0.0          0.0      0.0   \n",
       "11759898               NaN         0           0.0          0.0      0.0   \n",
       "\n",
       "          SecurityDelay  LateAircraftDelay  \n",
       "11759894            0.0               16.0  \n",
       "11759895            0.0               47.0  \n",
       "11759896            0.0                0.0  \n",
       "11759897            0.0                0.0  \n",
       "11759898            0.0                0.0  \n",
       "\n",
       "[5 rows x 29 columns]"
      ]
     },
     "execution_count": 6,
     "metadata": {},
     "output_type": "execute_result"
    }
   ],
   "source": [
    "# print the last five rows\n",
    "df.tail()"
   ]
  },
  {
   "attachments": {},
   "cell_type": "markdown",
   "metadata": {},
   "source": [
    "## Deal with Missing Data"
   ]
  },
  {
   "cell_type": "code",
   "execution_count": 10,
   "metadata": {},
   "outputs": [
    {
     "name": "stdout",
     "output_type": "stream",
     "text": [
      "Year                  0.000000\n",
      "Month                 0.000000\n",
      "DayofMonth            0.000000\n",
      "DayOfWeek             0.000000\n",
      "DepTime               1.416781\n",
      "CRSDepTime            0.000000\n",
      "ArrTime               1.584614\n",
      "CRSArrTime            0.000000\n",
      "UniqueCarrier         0.000000\n",
      "FlightNum             0.000000\n",
      "TailNum               0.478405\n",
      "ActualElapsedTime     1.584622\n",
      "CRSElapsedTime        0.000009\n",
      "AirTime               1.585643\n",
      "ArrDelay              1.584622\n",
      "DepDelay              1.416781\n",
      "Origin                0.000000\n",
      "Dest                  0.000000\n",
      "Distance              0.000000\n",
      "TaxiIn                0.000000\n",
      "TaxiOut               0.000000\n",
      "Cancelled             0.000000\n",
      "CancellationCode     99.548517\n",
      "Diverted              0.000000\n",
      "CarrierDelay         67.552459\n",
      "WeatherDelay         67.552459\n",
      "NASDelay             67.552459\n",
      "SecurityDelay        67.552459\n",
      "LateAircraftDelay    67.552459\n",
      "dtype: float64\n"
     ]
    }
   ],
   "source": [
    "# calculate the percentage of missing values in each column\n",
    "print((df.isnull().sum() / len(df)) * 100)\n"
   ]
  },
  {
   "attachments": {},
   "cell_type": "markdown",
   "metadata": {},
   "source": [
    "Variables CancellationCode, Diverted, CarrierDelay, WeatherDelay, NASDelay, SecurityDelay and LateAircraftDelay have over two third of missing values, thus we remove these seven variables."
   ]
  },
  {
   "cell_type": "code",
   "execution_count": 3,
   "metadata": {},
   "outputs": [],
   "source": [
    "df.drop(['CancellationCode', 'Diverted', 'CarrierDelay', 'WeatherDelay', 'NASDelay', 'SecurityDelay', 'LateAircraftDelay'], axis=1, inplace=True)"
   ]
  },
  {
   "attachments": {},
   "cell_type": "markdown",
   "metadata": {},
   "source": [
    "total rows of df"
   ]
  },
  {
   "cell_type": "code",
   "execution_count": 20,
   "metadata": {},
   "outputs": [
    {
     "data": {
      "text/plain": [
       "11759899"
      ]
     },
     "execution_count": 20,
     "metadata": {},
     "output_type": "execute_result"
    }
   ],
   "source": [
    "len(df)"
   ]
  },
  {
   "attachments": {},
   "cell_type": "markdown",
   "metadata": {},
   "source": [
    "percentage of missing values "
   ]
  },
  {
   "cell_type": "code",
   "execution_count": 19,
   "metadata": {},
   "outputs": [
    {
     "data": {
      "text/plain": [
       "1.5861445748811278"
      ]
     },
     "execution_count": 19,
     "metadata": {},
     "output_type": "execute_result"
    }
   ],
   "source": [
    "missing_rows = df.isnull().sum(axis=1)\n",
    "(sum(missing_rows > 0) / df.shape[0]) * 100"
   ]
  },
  {
   "attachments": {},
   "cell_type": "markdown",
   "metadata": {},
   "source": [
    "Out of 11759899 rows of data, only 1.586% contains missing values. It is more than enough, so just remove the 1.586% of data. "
   ]
  },
  {
   "cell_type": "code",
   "execution_count": 4,
   "metadata": {},
   "outputs": [],
   "source": [
    "df = df.dropna()"
   ]
  },
  {
   "attachments": {},
   "cell_type": "markdown",
   "metadata": {},
   "source": [
    "Double check `new **df**` doesn't contain missing values"
   ]
  },
  {
   "cell_type": "code",
   "execution_count": 28,
   "metadata": {},
   "outputs": [
    {
     "data": {
      "text/plain": [
       "Year                 11573370\n",
       "Month                11573370\n",
       "DayofMonth           11573370\n",
       "DayOfWeek            11573370\n",
       "DepTime              11573370\n",
       "CRSDepTime           11573370\n",
       "ArrTime              11573370\n",
       "CRSArrTime           11573370\n",
       "UniqueCarrier        11573370\n",
       "FlightNum            11573370\n",
       "TailNum              11573370\n",
       "ActualElapsedTime    11573370\n",
       "CRSElapsedTime       11573370\n",
       "AirTime              11573370\n",
       "ArrDelay             11573370\n",
       "DepDelay             11573370\n",
       "Origin               11573370\n",
       "Dest                 11573370\n",
       "Distance             11573370\n",
       "TaxiIn               11573370\n",
       "TaxiOut              11573370\n",
       "Cancelled            11573370\n",
       "dtype: int64"
      ]
     },
     "execution_count": 28,
     "metadata": {},
     "output_type": "execute_result"
    }
   ],
   "source": [
    "df.count()"
   ]
  },
  {
   "cell_type": "code",
   "execution_count": 29,
   "metadata": {},
   "outputs": [
    {
     "data": {
      "text/html": [
       "<div>\n",
       "<style scoped>\n",
       "    .dataframe tbody tr th:only-of-type {\n",
       "        vertical-align: middle;\n",
       "    }\n",
       "\n",
       "    .dataframe tbody tr th {\n",
       "        vertical-align: top;\n",
       "    }\n",
       "\n",
       "    .dataframe thead th {\n",
       "        text-align: right;\n",
       "    }\n",
       "</style>\n",
       "<table border=\"1\" class=\"dataframe\">\n",
       "  <thead>\n",
       "    <tr style=\"text-align: right;\">\n",
       "      <th></th>\n",
       "      <th>Year</th>\n",
       "      <th>Month</th>\n",
       "      <th>DayofMonth</th>\n",
       "      <th>DayOfWeek</th>\n",
       "      <th>DepTime</th>\n",
       "      <th>CRSDepTime</th>\n",
       "      <th>ArrTime</th>\n",
       "      <th>CRSArrTime</th>\n",
       "      <th>UniqueCarrier</th>\n",
       "      <th>FlightNum</th>\n",
       "      <th>...</th>\n",
       "      <th>CRSElapsedTime</th>\n",
       "      <th>AirTime</th>\n",
       "      <th>ArrDelay</th>\n",
       "      <th>DepDelay</th>\n",
       "      <th>Origin</th>\n",
       "      <th>Dest</th>\n",
       "      <th>Distance</th>\n",
       "      <th>TaxiIn</th>\n",
       "      <th>TaxiOut</th>\n",
       "      <th>Cancelled</th>\n",
       "    </tr>\n",
       "  </thead>\n",
       "  <tbody>\n",
       "    <tr>\n",
       "      <th>0</th>\n",
       "      <td>2002</td>\n",
       "      <td>1</td>\n",
       "      <td>13</td>\n",
       "      <td>7</td>\n",
       "      <td>2231.0</td>\n",
       "      <td>2235</td>\n",
       "      <td>2342.0</td>\n",
       "      <td>2353</td>\n",
       "      <td>US</td>\n",
       "      <td>723</td>\n",
       "      <td>...</td>\n",
       "      <td>78.0</td>\n",
       "      <td>55.0</td>\n",
       "      <td>-11.0</td>\n",
       "      <td>-4.0</td>\n",
       "      <td>PIT</td>\n",
       "      <td>CLT</td>\n",
       "      <td>366</td>\n",
       "      <td>3</td>\n",
       "      <td>13</td>\n",
       "      <td>0</td>\n",
       "    </tr>\n",
       "    <tr>\n",
       "      <th>1</th>\n",
       "      <td>2002</td>\n",
       "      <td>1</td>\n",
       "      <td>14</td>\n",
       "      <td>1</td>\n",
       "      <td>2230.0</td>\n",
       "      <td>2235</td>\n",
       "      <td>2347.0</td>\n",
       "      <td>2353</td>\n",
       "      <td>US</td>\n",
       "      <td>723</td>\n",
       "      <td>...</td>\n",
       "      <td>78.0</td>\n",
       "      <td>60.0</td>\n",
       "      <td>-6.0</td>\n",
       "      <td>-5.0</td>\n",
       "      <td>PIT</td>\n",
       "      <td>CLT</td>\n",
       "      <td>366</td>\n",
       "      <td>3</td>\n",
       "      <td>14</td>\n",
       "      <td>0</td>\n",
       "    </tr>\n",
       "    <tr>\n",
       "      <th>2</th>\n",
       "      <td>2002</td>\n",
       "      <td>1</td>\n",
       "      <td>15</td>\n",
       "      <td>2</td>\n",
       "      <td>2230.0</td>\n",
       "      <td>2235</td>\n",
       "      <td>2342.0</td>\n",
       "      <td>2353</td>\n",
       "      <td>US</td>\n",
       "      <td>723</td>\n",
       "      <td>...</td>\n",
       "      <td>78.0</td>\n",
       "      <td>55.0</td>\n",
       "      <td>-11.0</td>\n",
       "      <td>-5.0</td>\n",
       "      <td>PIT</td>\n",
       "      <td>CLT</td>\n",
       "      <td>366</td>\n",
       "      <td>3</td>\n",
       "      <td>14</td>\n",
       "      <td>0</td>\n",
       "    </tr>\n",
       "    <tr>\n",
       "      <th>3</th>\n",
       "      <td>2002</td>\n",
       "      <td>1</td>\n",
       "      <td>16</td>\n",
       "      <td>3</td>\n",
       "      <td>2230.0</td>\n",
       "      <td>2235</td>\n",
       "      <td>2340.0</td>\n",
       "      <td>2353</td>\n",
       "      <td>US</td>\n",
       "      <td>723</td>\n",
       "      <td>...</td>\n",
       "      <td>78.0</td>\n",
       "      <td>57.0</td>\n",
       "      <td>-13.0</td>\n",
       "      <td>-5.0</td>\n",
       "      <td>PIT</td>\n",
       "      <td>CLT</td>\n",
       "      <td>366</td>\n",
       "      <td>3</td>\n",
       "      <td>10</td>\n",
       "      <td>0</td>\n",
       "    </tr>\n",
       "    <tr>\n",
       "      <th>4</th>\n",
       "      <td>2002</td>\n",
       "      <td>1</td>\n",
       "      <td>17</td>\n",
       "      <td>4</td>\n",
       "      <td>2227.0</td>\n",
       "      <td>2235</td>\n",
       "      <td>2345.0</td>\n",
       "      <td>2353</td>\n",
       "      <td>US</td>\n",
       "      <td>723</td>\n",
       "      <td>...</td>\n",
       "      <td>78.0</td>\n",
       "      <td>60.0</td>\n",
       "      <td>-8.0</td>\n",
       "      <td>-8.0</td>\n",
       "      <td>PIT</td>\n",
       "      <td>CLT</td>\n",
       "      <td>366</td>\n",
       "      <td>5</td>\n",
       "      <td>13</td>\n",
       "      <td>0</td>\n",
       "    </tr>\n",
       "  </tbody>\n",
       "</table>\n",
       "<p>5 rows × 22 columns</p>\n",
       "</div>"
      ],
      "text/plain": [
       "   Year  Month  DayofMonth  DayOfWeek  DepTime  CRSDepTime  ArrTime  \\\n",
       "0  2002      1          13          7   2231.0        2235   2342.0   \n",
       "1  2002      1          14          1   2230.0        2235   2347.0   \n",
       "2  2002      1          15          2   2230.0        2235   2342.0   \n",
       "3  2002      1          16          3   2230.0        2235   2340.0   \n",
       "4  2002      1          17          4   2227.0        2235   2345.0   \n",
       "\n",
       "   CRSArrTime UniqueCarrier  FlightNum  ... CRSElapsedTime  AirTime  ArrDelay  \\\n",
       "0        2353            US        723  ...           78.0     55.0     -11.0   \n",
       "1        2353            US        723  ...           78.0     60.0      -6.0   \n",
       "2        2353            US        723  ...           78.0     55.0     -11.0   \n",
       "3        2353            US        723  ...           78.0     57.0     -13.0   \n",
       "4        2353            US        723  ...           78.0     60.0      -8.0   \n",
       "\n",
       "   DepDelay  Origin  Dest Distance TaxiIn  TaxiOut  Cancelled  \n",
       "0      -4.0     PIT   CLT      366      3       13          0  \n",
       "1      -5.0     PIT   CLT      366      3       14          0  \n",
       "2      -5.0     PIT   CLT      366      3       14          0  \n",
       "3      -5.0     PIT   CLT      366      3       10          0  \n",
       "4      -8.0     PIT   CLT      366      5       13          0  \n",
       "\n",
       "[5 rows x 22 columns]"
      ]
     },
     "execution_count": 29,
     "metadata": {},
     "output_type": "execute_result"
    }
   ],
   "source": [
    "df.head()"
   ]
  },
  {
   "attachments": {},
   "cell_type": "markdown",
   "metadata": {},
   "source": [
    "## Create new x variables\n",
    "According to the U.S. Department of Transportation, a flight is considered to be a delay if it departs or arrives 15 minutes or more later than the scheduled time. "
   ]
  },
  {
   "cell_type": "code",
   "execution_count": 5,
   "metadata": {},
   "outputs": [],
   "source": [
    "df['dDelay'] = df['DepDelay'].apply(lambda x: 1 if x >= 15 else 0)\n",
    "df['aDelay'] = df['ArrDelay'].apply(lambda x: 1 if x >= 15 else 0)"
   ]
  },
  {
   "attachments": {},
   "cell_type": "markdown",
   "metadata": {},
   "source": [
    "Split a day into 4 parts"
   ]
  },
  {
   "cell_type": "code",
   "execution_count": 6,
   "metadata": {},
   "outputs": [],
   "source": [
    "df['time'] = pd.cut(df['DepTime'], bins=[0, 600, 1200, 1800, 2400], \n",
    "                    labels=['0000-0600', '0600-1200', '1200-1800', '1800-2400'], \n",
    "                    include_lowest=True)"
   ]
  },
  {
   "attachments": {},
   "cell_type": "markdown",
   "metadata": {},
   "source": [
    "Create season variable"
   ]
  },
  {
   "cell_type": "code",
   "execution_count": 7,
   "metadata": {},
   "outputs": [],
   "source": [
    "# create a new column \"date\" with datetime object\n",
    "df['Day'] = df['DayofMonth']\n",
    "df['date'] = pd.to_datetime(df[['Year', 'Month', 'Day']])\n",
    "\n",
    "# define the season ranges\n",
    "winter = pd.to_datetime('2002-12-21 20:15:0')\n",
    "autumn = pd.to_datetime('2002-9-23 0:56:0')\n",
    "summer = pd.to_datetime('2002-6-21 9:24:0')\n",
    "spring = pd.to_datetime('2002-3-20 14:16:0')\n",
    "\n",
    "# create a new column \"seasons\" based on date column\n",
    "df['seasons'] = np.select(\n",
    "    [df['date'] >= winter, df['date'] >= autumn, df['date'] >= summer, df['date'] >= spring],\n",
    "    ['Winter', 'Autumn', 'Summer', 'Spring'],\n",
    "    default='Winter'\n",
    ")\n"
   ]
  },
  {
   "cell_type": "code",
   "execution_count": 14,
   "metadata": {},
   "outputs": [
    {
     "data": {
      "text/html": [
       "<div>\n",
       "<style scoped>\n",
       "    .dataframe tbody tr th:only-of-type {\n",
       "        vertical-align: middle;\n",
       "    }\n",
       "\n",
       "    .dataframe tbody tr th {\n",
       "        vertical-align: top;\n",
       "    }\n",
       "\n",
       "    .dataframe thead th {\n",
       "        text-align: right;\n",
       "    }\n",
       "</style>\n",
       "<table border=\"1\" class=\"dataframe\">\n",
       "  <thead>\n",
       "    <tr style=\"text-align: right;\">\n",
       "      <th></th>\n",
       "      <th>Year</th>\n",
       "      <th>Month</th>\n",
       "      <th>DayofMonth</th>\n",
       "      <th>DayOfWeek</th>\n",
       "      <th>DepTime</th>\n",
       "      <th>CRSDepTime</th>\n",
       "      <th>ArrTime</th>\n",
       "      <th>CRSArrTime</th>\n",
       "      <th>UniqueCarrier</th>\n",
       "      <th>FlightNum</th>\n",
       "      <th>...</th>\n",
       "      <th>Distance</th>\n",
       "      <th>TaxiIn</th>\n",
       "      <th>TaxiOut</th>\n",
       "      <th>Cancelled</th>\n",
       "      <th>dDelay</th>\n",
       "      <th>aDelay</th>\n",
       "      <th>time</th>\n",
       "      <th>Day</th>\n",
       "      <th>date</th>\n",
       "      <th>seasons</th>\n",
       "    </tr>\n",
       "  </thead>\n",
       "  <tbody>\n",
       "    <tr>\n",
       "      <th>0</th>\n",
       "      <td>2002</td>\n",
       "      <td>1</td>\n",
       "      <td>13</td>\n",
       "      <td>7</td>\n",
       "      <td>2231.0</td>\n",
       "      <td>2235</td>\n",
       "      <td>2342.0</td>\n",
       "      <td>2353</td>\n",
       "      <td>US</td>\n",
       "      <td>723</td>\n",
       "      <td>...</td>\n",
       "      <td>366</td>\n",
       "      <td>3</td>\n",
       "      <td>13</td>\n",
       "      <td>0</td>\n",
       "      <td>0</td>\n",
       "      <td>0</td>\n",
       "      <td>1800-2400</td>\n",
       "      <td>13</td>\n",
       "      <td>2002-01-13</td>\n",
       "      <td>Winter</td>\n",
       "    </tr>\n",
       "    <tr>\n",
       "      <th>1</th>\n",
       "      <td>2002</td>\n",
       "      <td>1</td>\n",
       "      <td>14</td>\n",
       "      <td>1</td>\n",
       "      <td>2230.0</td>\n",
       "      <td>2235</td>\n",
       "      <td>2347.0</td>\n",
       "      <td>2353</td>\n",
       "      <td>US</td>\n",
       "      <td>723</td>\n",
       "      <td>...</td>\n",
       "      <td>366</td>\n",
       "      <td>3</td>\n",
       "      <td>14</td>\n",
       "      <td>0</td>\n",
       "      <td>0</td>\n",
       "      <td>0</td>\n",
       "      <td>1800-2400</td>\n",
       "      <td>14</td>\n",
       "      <td>2002-01-14</td>\n",
       "      <td>Winter</td>\n",
       "    </tr>\n",
       "    <tr>\n",
       "      <th>2</th>\n",
       "      <td>2002</td>\n",
       "      <td>1</td>\n",
       "      <td>15</td>\n",
       "      <td>2</td>\n",
       "      <td>2230.0</td>\n",
       "      <td>2235</td>\n",
       "      <td>2342.0</td>\n",
       "      <td>2353</td>\n",
       "      <td>US</td>\n",
       "      <td>723</td>\n",
       "      <td>...</td>\n",
       "      <td>366</td>\n",
       "      <td>3</td>\n",
       "      <td>14</td>\n",
       "      <td>0</td>\n",
       "      <td>0</td>\n",
       "      <td>0</td>\n",
       "      <td>1800-2400</td>\n",
       "      <td>15</td>\n",
       "      <td>2002-01-15</td>\n",
       "      <td>Winter</td>\n",
       "    </tr>\n",
       "    <tr>\n",
       "      <th>3</th>\n",
       "      <td>2002</td>\n",
       "      <td>1</td>\n",
       "      <td>16</td>\n",
       "      <td>3</td>\n",
       "      <td>2230.0</td>\n",
       "      <td>2235</td>\n",
       "      <td>2340.0</td>\n",
       "      <td>2353</td>\n",
       "      <td>US</td>\n",
       "      <td>723</td>\n",
       "      <td>...</td>\n",
       "      <td>366</td>\n",
       "      <td>3</td>\n",
       "      <td>10</td>\n",
       "      <td>0</td>\n",
       "      <td>0</td>\n",
       "      <td>0</td>\n",
       "      <td>1800-2400</td>\n",
       "      <td>16</td>\n",
       "      <td>2002-01-16</td>\n",
       "      <td>Winter</td>\n",
       "    </tr>\n",
       "    <tr>\n",
       "      <th>4</th>\n",
       "      <td>2002</td>\n",
       "      <td>1</td>\n",
       "      <td>17</td>\n",
       "      <td>4</td>\n",
       "      <td>2227.0</td>\n",
       "      <td>2235</td>\n",
       "      <td>2345.0</td>\n",
       "      <td>2353</td>\n",
       "      <td>US</td>\n",
       "      <td>723</td>\n",
       "      <td>...</td>\n",
       "      <td>366</td>\n",
       "      <td>5</td>\n",
       "      <td>13</td>\n",
       "      <td>0</td>\n",
       "      <td>0</td>\n",
       "      <td>0</td>\n",
       "      <td>1800-2400</td>\n",
       "      <td>17</td>\n",
       "      <td>2002-01-17</td>\n",
       "      <td>Winter</td>\n",
       "    </tr>\n",
       "    <tr>\n",
       "      <th>...</th>\n",
       "      <td>...</td>\n",
       "      <td>...</td>\n",
       "      <td>...</td>\n",
       "      <td>...</td>\n",
       "      <td>...</td>\n",
       "      <td>...</td>\n",
       "      <td>...</td>\n",
       "      <td>...</td>\n",
       "      <td>...</td>\n",
       "      <td>...</td>\n",
       "      <td>...</td>\n",
       "      <td>...</td>\n",
       "      <td>...</td>\n",
       "      <td>...</td>\n",
       "      <td>...</td>\n",
       "      <td>...</td>\n",
       "      <td>...</td>\n",
       "      <td>...</td>\n",
       "      <td>...</td>\n",
       "      <td>...</td>\n",
       "      <td>...</td>\n",
       "    </tr>\n",
       "    <tr>\n",
       "      <th>96</th>\n",
       "      <td>2002</td>\n",
       "      <td>1</td>\n",
       "      <td>21</td>\n",
       "      <td>1</td>\n",
       "      <td>955.0</td>\n",
       "      <td>935</td>\n",
       "      <td>1138.0</td>\n",
       "      <td>1118</td>\n",
       "      <td>US</td>\n",
       "      <td>728</td>\n",
       "      <td>...</td>\n",
       "      <td>546</td>\n",
       "      <td>4</td>\n",
       "      <td>24</td>\n",
       "      <td>0</td>\n",
       "      <td>1</td>\n",
       "      <td>1</td>\n",
       "      <td>0600-1200</td>\n",
       "      <td>21</td>\n",
       "      <td>2002-01-21</td>\n",
       "      <td>Winter</td>\n",
       "    </tr>\n",
       "    <tr>\n",
       "      <th>97</th>\n",
       "      <td>2002</td>\n",
       "      <td>1</td>\n",
       "      <td>22</td>\n",
       "      <td>2</td>\n",
       "      <td>934.0</td>\n",
       "      <td>935</td>\n",
       "      <td>1121.0</td>\n",
       "      <td>1118</td>\n",
       "      <td>US</td>\n",
       "      <td>728</td>\n",
       "      <td>...</td>\n",
       "      <td>546</td>\n",
       "      <td>3</td>\n",
       "      <td>30</td>\n",
       "      <td>0</td>\n",
       "      <td>0</td>\n",
       "      <td>0</td>\n",
       "      <td>0600-1200</td>\n",
       "      <td>22</td>\n",
       "      <td>2002-01-22</td>\n",
       "      <td>Winter</td>\n",
       "    </tr>\n",
       "    <tr>\n",
       "      <th>98</th>\n",
       "      <td>2002</td>\n",
       "      <td>1</td>\n",
       "      <td>23</td>\n",
       "      <td>3</td>\n",
       "      <td>934.0</td>\n",
       "      <td>935</td>\n",
       "      <td>1107.0</td>\n",
       "      <td>1118</td>\n",
       "      <td>US</td>\n",
       "      <td>728</td>\n",
       "      <td>...</td>\n",
       "      <td>546</td>\n",
       "      <td>2</td>\n",
       "      <td>14</td>\n",
       "      <td>0</td>\n",
       "      <td>0</td>\n",
       "      <td>0</td>\n",
       "      <td>0600-1200</td>\n",
       "      <td>23</td>\n",
       "      <td>2002-01-23</td>\n",
       "      <td>Winter</td>\n",
       "    </tr>\n",
       "    <tr>\n",
       "      <th>99</th>\n",
       "      <td>2002</td>\n",
       "      <td>1</td>\n",
       "      <td>24</td>\n",
       "      <td>4</td>\n",
       "      <td>930.0</td>\n",
       "      <td>935</td>\n",
       "      <td>1116.0</td>\n",
       "      <td>1118</td>\n",
       "      <td>US</td>\n",
       "      <td>728</td>\n",
       "      <td>...</td>\n",
       "      <td>546</td>\n",
       "      <td>5</td>\n",
       "      <td>26</td>\n",
       "      <td>0</td>\n",
       "      <td>0</td>\n",
       "      <td>0</td>\n",
       "      <td>0600-1200</td>\n",
       "      <td>24</td>\n",
       "      <td>2002-01-24</td>\n",
       "      <td>Winter</td>\n",
       "    </tr>\n",
       "    <tr>\n",
       "      <th>100</th>\n",
       "      <td>2002</td>\n",
       "      <td>1</td>\n",
       "      <td>25</td>\n",
       "      <td>5</td>\n",
       "      <td>928.0</td>\n",
       "      <td>935</td>\n",
       "      <td>1130.0</td>\n",
       "      <td>1118</td>\n",
       "      <td>US</td>\n",
       "      <td>728</td>\n",
       "      <td>...</td>\n",
       "      <td>546</td>\n",
       "      <td>3</td>\n",
       "      <td>39</td>\n",
       "      <td>0</td>\n",
       "      <td>0</td>\n",
       "      <td>0</td>\n",
       "      <td>0600-1200</td>\n",
       "      <td>25</td>\n",
       "      <td>2002-01-25</td>\n",
       "      <td>Winter</td>\n",
       "    </tr>\n",
       "  </tbody>\n",
       "</table>\n",
       "<p>100 rows × 28 columns</p>\n",
       "</div>"
      ],
      "text/plain": [
       "     Year  Month  DayofMonth  DayOfWeek  DepTime  CRSDepTime  ArrTime  \\\n",
       "0    2002      1          13          7   2231.0        2235   2342.0   \n",
       "1    2002      1          14          1   2230.0        2235   2347.0   \n",
       "2    2002      1          15          2   2230.0        2235   2342.0   \n",
       "3    2002      1          16          3   2230.0        2235   2340.0   \n",
       "4    2002      1          17          4   2227.0        2235   2345.0   \n",
       "..    ...    ...         ...        ...      ...         ...      ...   \n",
       "96   2002      1          21          1    955.0         935   1138.0   \n",
       "97   2002      1          22          2    934.0         935   1121.0   \n",
       "98   2002      1          23          3    934.0         935   1107.0   \n",
       "99   2002      1          24          4    930.0         935   1116.0   \n",
       "100  2002      1          25          5    928.0         935   1130.0   \n",
       "\n",
       "     CRSArrTime UniqueCarrier  FlightNum  ... Distance  TaxiIn  TaxiOut  \\\n",
       "0          2353            US        723  ...      366       3       13   \n",
       "1          2353            US        723  ...      366       3       14   \n",
       "2          2353            US        723  ...      366       3       14   \n",
       "3          2353            US        723  ...      366       3       10   \n",
       "4          2353            US        723  ...      366       5       13   \n",
       "..          ...           ...        ...  ...      ...     ...      ...   \n",
       "96         1118            US        728  ...      546       4       24   \n",
       "97         1118            US        728  ...      546       3       30   \n",
       "98         1118            US        728  ...      546       2       14   \n",
       "99         1118            US        728  ...      546       5       26   \n",
       "100        1118            US        728  ...      546       3       39   \n",
       "\n",
       "     Cancelled  dDelay  aDelay       time Day       date  seasons  \n",
       "0            0       0       0  1800-2400  13 2002-01-13   Winter  \n",
       "1            0       0       0  1800-2400  14 2002-01-14   Winter  \n",
       "2            0       0       0  1800-2400  15 2002-01-15   Winter  \n",
       "3            0       0       0  1800-2400  16 2002-01-16   Winter  \n",
       "4            0       0       0  1800-2400  17 2002-01-17   Winter  \n",
       "..         ...     ...     ...        ...  ..        ...      ...  \n",
       "96           0       1       1  0600-1200  21 2002-01-21   Winter  \n",
       "97           0       0       0  0600-1200  22 2002-01-22   Winter  \n",
       "98           0       0       0  0600-1200  23 2002-01-23   Winter  \n",
       "99           0       0       0  0600-1200  24 2002-01-24   Winter  \n",
       "100          0       0       0  0600-1200  25 2002-01-25   Winter  \n",
       "\n",
       "[100 rows x 28 columns]"
      ]
     },
     "execution_count": 14,
     "metadata": {},
     "output_type": "execute_result"
    }
   ],
   "source": [
    "df.head(100)"
   ]
  },
  {
   "attachments": {},
   "cell_type": "markdown",
   "metadata": {},
   "source": [
    "---"
   ]
  },
  {
   "attachments": {},
   "cell_type": "markdown",
   "metadata": {},
   "source": [
    "## Question 1\n",
    "\n",
    "`Best time of day` to fly to minimize delays"
   ]
  },
  {
   "cell_type": "code",
   "execution_count": 17,
   "metadata": {},
   "outputs": [],
   "source": [
    "# create a table of frequency of delays by time of day\n",
    "freqtime = pd.Series(df.loc[df['dDelay'] == 1, 'time']).value_counts()\n",
    "\n",
    "# create a table of frequency of all times of day\n",
    "freqtime2 = pd.Series(df['time']).value_counts()\n",
    "\n",
    "# calculate the proportion of delays by time of day\n",
    "probt = freqtime / freqtime2\n",
    "probt"
   ]
  },
  {
   "attachments": {},
   "cell_type": "markdown",
   "metadata": {},
   "source": [
    "Plot a bar chart of proportion of delays by `time of day`"
   ]
  },
  {
   "cell_type": "code",
   "execution_count": 18,
   "metadata": {},
   "outputs": [
    {
     "data": {
      "image/png": "[encoded data removed]",
      "text/plain": [
       "<Figure size 640x480 with 1 Axes>"
      ]
     },
     "metadata": {},
     "output_type": "display_data"
    }
   ],
   "source": [
    "plt.bar(probt.index, probt.values)\n",
    "plt.title('Percentage of Delay by Time of the Day')\n",
    "plt.xlabel('Time of the Day')\n",
    "plt.ylabel('Percentage')\n",
    "plt.show()"
   ]
  },
  {
   "attachments": {},
   "cell_type": "markdown",
   "metadata": {},
   "source": [
    "Best `day of the week` to fly to minimize delays"
   ]
  },
  {
   "cell_type": "code",
   "execution_count": 20,
   "metadata": {},
   "outputs": [
    {
     "data": {
      "text/plain": [
       "1    0.135124\n",
       "2    0.116200\n",
       "3    0.122534\n",
       "4    0.143822\n",
       "5    0.157167\n",
       "6    0.116770\n",
       "7    0.141704\n",
       "Name: DayOfWeek, dtype: float64"
      ]
     },
     "execution_count": 20,
     "metadata": {},
     "output_type": "execute_result"
    }
   ],
   "source": [
    "# create a table of frequency of delays by day of a week\n",
    "freqd = pd.Series(df.loc[df['dDelay'] == 1, 'DayOfWeek']).value_counts()\n",
    "\n",
    "# create a table of frequency of all times of week\n",
    "freqd2 = pd.Series(df['DayOfWeek']).value_counts()\n",
    "\n",
    "# calculate the proportion of delays by day of a week\n",
    "probd = freqd / freqd2\n",
    "probd"
   ]
  },
  {
   "attachments": {},
   "cell_type": "markdown",
   "metadata": {},
   "source": [
    "Plot a bar chart of proportion of delays by `day of week`"
   ]
  },
  {
   "cell_type": "code",
   "execution_count": 21,
   "metadata": {},
   "outputs": [
    {
     "data": {
      "image/png": "[encoded data removed]",
      "text/plain": [
       "<Figure size 640x480 with 1 Axes>"
      ]
     },
     "metadata": {},
     "output_type": "display_data"
    }
   ],
   "source": [
    "plt.bar(probd.index, probd.values)\n",
    "plt.title('Percentage of Delay by Day of the Week')\n",
    "plt.xlabel('Day of the Week')\n",
    "plt.ylabel('Percentage')\n",
    "plt.show()"
   ]
  },
  {
   "attachments": {},
   "cell_type": "markdown",
   "metadata": {},
   "source": [
    "`Best month of the year` to fly to minimize delays"
   ]
  },
  {
   "cell_type": "code",
   "execution_count": 22,
   "metadata": {},
   "outputs": [
    {
     "data": {
      "text/plain": [
       "1     0.129082\n",
       "2     0.138888\n",
       "3     0.143844\n",
       "4     0.112237\n",
       "5     0.118367\n",
       "6     0.150055\n",
       "7     0.158809\n",
       "8     0.147569\n",
       "9     0.095172\n",
       "10    0.105268\n",
       "11    0.124609\n",
       "12    0.177233\n",
       "Name: Month, dtype: float64"
      ]
     },
     "execution_count": 22,
     "metadata": {},
     "output_type": "execute_result"
    }
   ],
   "source": [
    "# create a table of frequency of delays by month of a year\n",
    "freqmonth = pd.Series(df.loc[df['dDelay'] == 1, 'Month']).value_counts()\n",
    "\n",
    "# create a table of frequency of all times of year\n",
    "freqmonth2 = pd.Series(df['Month']).value_counts()\n",
    "\n",
    "# calculate the proportion of delays by month of a year\n",
    "probm = freqmonth / freqmonth2\n",
    "probm"
   ]
  },
  {
   "attachments": {},
   "cell_type": "markdown",
   "metadata": {},
   "source": [
    "Plot a bar chart of proportion of delays by `month of year`"
   ]
  },
  {
   "cell_type": "code",
   "execution_count": 23,
   "metadata": {},
   "outputs": [
    {
     "data": {
      "image/png": "[encoded data removed]",
      "text/plain": [
       "<Figure size 640x480 with 1 Axes>"
      ]
     },
     "metadata": {},
     "output_type": "display_data"
    }
   ],
   "source": [
    "plt.bar(probm.index, probm.values)\n",
    "plt.title('Percentage of Delay by Month of the Year')\n",
    "plt.xlabel('Month of the Year')\n",
    "plt.ylabel('Percentage')\n",
    "plt.show()"
   ]
  },
  {
   "attachments": {},
   "cell_type": "markdown",
   "metadata": {},
   "source": [
    "`Best season of the year` to fly to minimize delays"
   ]
  },
  {
   "cell_type": "code",
   "execution_count": 24,
   "metadata": {},
   "outputs": [
    {
     "data": {
      "text/plain": [
       "Winter    0.132661\n",
       "Summer    0.143819\n",
       "Spring    0.137747\n",
       "Autumn    0.123470\n",
       "Name: seasons, dtype: float64"
      ]
     },
     "execution_count": 24,
     "metadata": {},
     "output_type": "execute_result"
    }
   ],
   "source": [
    "# create a table of frequency of delays by season of a year\n",
    "freqseason = pd.Series(df.loc[df['dDelay'] == 1, 'seasons']).value_counts()\n",
    "\n",
    "# create a table of frequency of all times of year\n",
    "freqseason2 = pd.Series(df['seasons']).value_counts()\n",
    "\n",
    "# calculate the proportion of delays by season of a year\n",
    "probs = freqseason / freqseason2\n",
    "probs"
   ]
  },
  {
   "attachments": {},
   "cell_type": "markdown",
   "metadata": {},
   "source": [
    "Plot a bar chart of proportion of delays by `season of year`"
   ]
  },
  {
   "cell_type": "code",
   "execution_count": 25,
   "metadata": {},
   "outputs": [
    {
     "data": {
      "image/png": "[encoded data removed]",
      "text/plain": [
       "<Figure size 640x480 with 1 Axes>"
      ]
     },
     "metadata": {},
     "output_type": "display_data"
    }
   ],
   "source": [
    "plt.bar(probs.index, probs.values)\n",
    "plt.title('Percentage of Delay by Season of the Year')\n",
    "plt.xlabel('Season of the Year')\n",
    "plt.ylabel('Percentage')\n",
    "plt.show()"
   ]
  },
  {
   "attachments": {},
   "cell_type": "markdown",
   "metadata": {},
   "source": [
    "---"
   ]
  },
  {
   "attachments": {},
   "cell_type": "markdown",
   "metadata": {},
   "source": [
    "## Question 2\n",
    "Merge planedata and df to create age variable"
   ]
  },
  {
   "cell_type": "code",
   "execution_count": 8,
   "metadata": {},
   "outputs": [],
   "source": [
    "planedata['TailNum'] = planedata['tailnum']\n",
    "joindf = pd.merge(df, planedata, on='TailNum')\n"
   ]
  },
  {
   "cell_type": "code",
   "execution_count": 10,
   "metadata": {},
   "outputs": [],
   "source": [
    "joindf = joindf.dropna()"
   ]
  },
  {
   "cell_type": "code",
   "execution_count": 11,
   "metadata": {},
   "outputs": [
    {
     "name": "stderr",
     "output_type": "stream",
     "text": [
      "C:\\Users\\user\\AppData\\Local\\Temp\\ipykernel_5092\\1846397116.py:5: SettingWithCopyWarning: \n",
      "A value is trying to be set on a copy of a slice from a DataFrame\n",
      "\n",
      "See the caveats in the documentation: https://pandas.pydata.org/pandas-docs/stable/user_guide/indexing.html#returning-a-view-versus-a-copy\n",
      "  joindf.drop(index=rows_to_drop, inplace=True)\n"
     ]
    }
   ],
   "source": [
    "# Find the rows where any column includes the string 'None'\n",
    "rows_to_drop = joindf[joindf.apply(lambda x: 'None' in x.values, axis=1)].index\n",
    "\n",
    "# Drop the rows\n",
    "joindf.drop(index=rows_to_drop, inplace=True)\n",
    "\n"
   ]
  },
  {
   "cell_type": "code",
   "execution_count": 13,
   "metadata": {},
   "outputs": [
    {
     "name": "stderr",
     "output_type": "stream",
     "text": [
      "C:\\Users\\user\\AppData\\Local\\Temp\\ipykernel_5092\\3714604430.py:2: SettingWithCopyWarning: \n",
      "A value is trying to be set on a copy of a slice from a DataFrame.\n",
      "Try using .loc[row_indexer,col_indexer] = value instead\n",
      "\n",
      "See the caveats in the documentation: https://pandas.pydata.org/pandas-docs/stable/user_guide/indexing.html#returning-a-view-versus-a-copy\n",
      "  joindf['issue_date'] = pd.to_datetime(joindf['issue_date'], format=\"%m/%d/%Y\")\n",
      "C:\\Users\\user\\AppData\\Local\\Temp\\ipykernel_5092\\3714604430.py:5: SettingWithCopyWarning: \n",
      "A value is trying to be set on a copy of a slice from a DataFrame.\n",
      "Try using .loc[row_indexer,col_indexer] = value instead\n",
      "\n",
      "See the caveats in the documentation: https://pandas.pydata.org/pandas-docs/stable/user_guide/indexing.html#returning-a-view-versus-a-copy\n",
      "  joindf['age'] = (pd.to_datetime(joindf['date']) - joindf['issue_date']).dt.days\n",
      "C:\\Users\\user\\AppData\\Local\\Temp\\ipykernel_5092\\3714604430.py:8: SettingWithCopyWarning: \n",
      "A value is trying to be set on a copy of a slice from a DataFrame.\n",
      "Try using .loc[row_indexer,col_indexer] = value instead\n",
      "\n",
      "See the caveats in the documentation: https://pandas.pydata.org/pandas-docs/stable/user_guide/indexing.html#returning-a-view-versus-a-copy\n",
      "  joindf['year'] = pd.to_numeric(joindf['year'])\n",
      "C:\\Users\\user\\AppData\\Local\\Temp\\ipykernel_5092\\3714604430.py:11: SettingWithCopyWarning: \n",
      "A value is trying to be set on a copy of a slice from a DataFrame.\n",
      "Try using .loc[row_indexer,col_indexer] = value instead\n",
      "\n",
      "See the caveats in the documentation: https://pandas.pydata.org/pandas-docs/stable/user_guide/indexing.html#returning-a-view-versus-a-copy\n",
      "  joindf['age'] = pd.to_numeric(joindf['age']) / 365\n"
     ]
    }
   ],
   "source": [
    "# Convert 'issue_date' column to POSIXct format with timezone\n",
    "joindf['issue_date'] = pd.to_datetime(joindf['issue_date'], format=\"%m/%d/%Y\")\n",
    "\n",
    "# Calculate 'age' column as difference between 'date' and 'issue_date'\n",
    "joindf['age'] = (pd.to_datetime(joindf['date']) - joindf['issue_date']).dt.days\n",
    "\n",
    "# Convert 'year' column to numeric format\n",
    "joindf['year'] = pd.to_numeric(joindf['year'])\n",
    "\n",
    "# Convert 'age' column to numeric format in years\n",
    "joindf['age'] = pd.to_numeric(joindf['age']) / 365\n",
    "\n",
    "# Filter out rows where 'age' is negative\n",
    "joindf = joindf[joindf['age'] >= 0]"
   ]
  },
  {
   "attachments": {},
   "cell_type": "markdown",
   "metadata": {},
   "source": [
    "Generate scatterplot of Delay vs Plane Age"
   ]
  },
  {
   "cell_type": "code",
   "execution_count": 14,
   "metadata": {},
   "outputs": [
    {
     "data": {
      "image/png": "[encoded data removed]",
      "text/plain": [
       "<Figure size 640x480 with 1 Axes>"
      ]
     },
     "metadata": {},
     "output_type": "display_data"
    }
   ],
   "source": [
    "plt.scatter(joindf['ArrDelay'], joindf['age'], marker='.', s=10)\n",
    "plt.title(\"Scatterplot of Delay vs Plane Age\")\n",
    "plt.xlabel(\"Delay by minutes\")\n",
    "plt.ylabel(\"Plane Age\")\n",
    "plt.show()"
   ]
  },
  {
   "cell_type": "code",
   "execution_count": 16,
   "metadata": {},
   "outputs": [
    {
     "name": "stdout",
     "output_type": "stream",
     "text": [
      "Pearson correlation coefficient: 0.07410669089044938\n",
      "P-value: 0.7190096895409108\n"
     ]
    }
   ],
   "source": [
    "# Round age to nearest integer\n",
    "joindf['age2'] = round(joindf['age'])\n",
    "\n",
    "# Calculate frequency of age with arrival delay\n",
    "freqage = joindf[joindf['aDelay'] == 1]['age2'].value_counts()\n",
    "\n",
    "# Calculate frequency of age in entire dataset\n",
    "freqage2 = joindf['age2'].value_counts()\n",
    "\n",
    "# Calculate probability of delay given age\n",
    "probage = freqage / freqage2\n",
    "\n",
    "# Create a new dataframe from probabilities\n",
    "df3 = pd.DataFrame({'age': probage.index, 'aDelay': probage.values})\n",
    "\n",
    "# Convert age to integer\n",
    "df3['age'] = df3['age'].astype(int)\n",
    "\n",
    "# Perform Pearson correlation test\n",
    "corr, p_val = pearsonr(df3['age'], df3['aDelay'])\n",
    "print('Pearson correlation coefficient:', corr)\n",
    "print('P-value:', p_val)"
   ]
  },
  {
   "attachments": {},
   "cell_type": "markdown",
   "metadata": {},
   "source": [
    "Plot barchart of Delay Percentage vs Age"
   ]
  },
  {
   "cell_type": "code",
   "execution_count": 17,
   "metadata": {},
   "outputs": [
    {
     "data": {
      "image/png": "[encoded data removed]",
      "text/plain": [
       "<Figure size 640x480 with 1 Axes>"
      ]
     },
     "metadata": {},
     "output_type": "display_data"
    }
   ],
   "source": [
    "plt.bar(probage.index, probage.values)\n",
    "plt.title('Percentage of Delay by Age')\n",
    "plt.xlabel('Age')\n",
    "plt.ylabel('Percentage')\n",
    "plt.show()"
   ]
  },
  {
   "attachments": {},
   "cell_type": "markdown",
   "metadata": {},
   "source": [
    "---"
   ]
  },
  {
   "attachments": {},
   "cell_type": "markdown",
   "metadata": {},
   "source": [
    "## Question 3"
   ]
  },
  {
   "cell_type": "code",
   "execution_count": 32,
   "metadata": {},
   "outputs": [],
   "source": [
    "# Create a new column 'location' by concatenating 'Origin' and 'Dest'\n",
    "df1['location'] = df1['Origin'] + '-' + df1['Dest']\n",
    "df2['location'] = df2['Origin'] + '-' + df2['Dest']"
   ]
  },
  {
   "attachments": {},
   "cell_type": "markdown",
   "metadata": {},
   "source": [
    "Top 10 frequently traveled locations in 2002."
   ]
  },
  {
   "cell_type": "code",
   "execution_count": null,
   "metadata": {},
   "outputs": [],
   "source": [
    "# Calculate the top 10 frequently traveled locations in 2002\n",
    "top_10_values_1 = df1['location'].value_counts().nlargest(10)\n",
    "top_10_values_1"
   ]
  },
  {
   "attachments": {},
   "cell_type": "markdown",
   "metadata": {},
   "source": [
    "Frequecny of top 10 2002 frequently traveled locations in 2003."
   ]
  },
  {
   "cell_type": "code",
   "execution_count": null,
   "metadata": {},
   "outputs": [],
   "source": [
    "# Calculate the frequency of the same 10 locations in 2003\n",
    "top_10_values_2 = df2['location'].value_counts().loc[top_10_values_1.index]\n",
    "top_10_values_2"
   ]
  },
  {
   "attachments": {},
   "cell_type": "markdown",
   "metadata": {},
   "source": [
    "Compute a table to compare the variations"
   ]
  },
  {
   "cell_type": "code",
   "execution_count": 33,
   "metadata": {},
   "outputs": [
    {
     "data": {
      "text/html": [
       "<div>\n",
       "<style scoped>\n",
       "    .dataframe tbody tr th:only-of-type {\n",
       "        vertical-align: middle;\n",
       "    }\n",
       "\n",
       "    .dataframe tbody tr th {\n",
       "        vertical-align: top;\n",
       "    }\n",
       "\n",
       "    .dataframe thead th {\n",
       "        text-align: right;\n",
       "    }\n",
       "</style>\n",
       "<table border=\"1\" class=\"dataframe\">\n",
       "  <thead>\n",
       "    <tr style=\"text-align: right;\">\n",
       "      <th></th>\n",
       "      <th>location</th>\n",
       "      <th>Origin</th>\n",
       "      <th>Dest</th>\n",
       "      <th>2002</th>\n",
       "      <th>2003</th>\n",
       "    </tr>\n",
       "  </thead>\n",
       "  <tbody>\n",
       "    <tr>\n",
       "      <th>0</th>\n",
       "      <td>BOS-LGA</td>\n",
       "      <td>Gen Edw L Logan Intl</td>\n",
       "      <td>LaGuardia</td>\n",
       "      <td>11539</td>\n",
       "      <td>12662</td>\n",
       "    </tr>\n",
       "    <tr>\n",
       "      <th>1</th>\n",
       "      <td>LAS-LAX</td>\n",
       "      <td>McCarran International</td>\n",
       "      <td>Los Angeles International</td>\n",
       "      <td>12526</td>\n",
       "      <td>11177</td>\n",
       "    </tr>\n",
       "    <tr>\n",
       "      <th>2</th>\n",
       "      <td>PHX-LAX</td>\n",
       "      <td>Phoenix Sky Harbor International</td>\n",
       "      <td>Los Angeles International</td>\n",
       "      <td>11066</td>\n",
       "      <td>10498</td>\n",
       "    </tr>\n",
       "    <tr>\n",
       "      <th>3</th>\n",
       "      <td>LAS-PHX</td>\n",
       "      <td>McCarran International</td>\n",
       "      <td>Phoenix Sky Harbor International</td>\n",
       "      <td>11143</td>\n",
       "      <td>10345</td>\n",
       "    </tr>\n",
       "    <tr>\n",
       "      <th>4</th>\n",
       "      <td>LAX-PHX</td>\n",
       "      <td>Los Angeles International</td>\n",
       "      <td>Phoenix Sky Harbor International</td>\n",
       "      <td>11027</td>\n",
       "      <td>10518</td>\n",
       "    </tr>\n",
       "    <tr>\n",
       "      <th>5</th>\n",
       "      <td>LAX-LAS</td>\n",
       "      <td>Los Angeles International</td>\n",
       "      <td>McCarran International</td>\n",
       "      <td>12733</td>\n",
       "      <td>11262</td>\n",
       "    </tr>\n",
       "    <tr>\n",
       "      <th>6</th>\n",
       "      <td>PHX-LAS</td>\n",
       "      <td>Phoenix Sky Harbor International</td>\n",
       "      <td>McCarran International</td>\n",
       "      <td>11091</td>\n",
       "      <td>10219</td>\n",
       "    </tr>\n",
       "    <tr>\n",
       "      <th>7</th>\n",
       "      <td>LGA-BOS</td>\n",
       "      <td>LaGuardia</td>\n",
       "      <td>Gen Edw L Logan Intl</td>\n",
       "      <td>11537</td>\n",
       "      <td>12568</td>\n",
       "    </tr>\n",
       "    <tr>\n",
       "      <th>8</th>\n",
       "      <td>MSP-ORD</td>\n",
       "      <td>Minneapolis-St Paul Intl</td>\n",
       "      <td>Chicago O'Hare International</td>\n",
       "      <td>12007</td>\n",
       "      <td>12377</td>\n",
       "    </tr>\n",
       "    <tr>\n",
       "      <th>9</th>\n",
       "      <td>ORD-MSP</td>\n",
       "      <td>Chicago O'Hare International</td>\n",
       "      <td>Minneapolis-St Paul Intl</td>\n",
       "      <td>11907</td>\n",
       "      <td>12254</td>\n",
       "    </tr>\n",
       "  </tbody>\n",
       "</table>\n",
       "</div>"
      ],
      "text/plain": [
       "  location                            Origin  \\\n",
       "0  BOS-LGA              Gen Edw L Logan Intl   \n",
       "1  LAS-LAX            McCarran International   \n",
       "2  PHX-LAX  Phoenix Sky Harbor International   \n",
       "3  LAS-PHX            McCarran International   \n",
       "4  LAX-PHX         Los Angeles International   \n",
       "5  LAX-LAS         Los Angeles International   \n",
       "6  PHX-LAS  Phoenix Sky Harbor International   \n",
       "7  LGA-BOS                         LaGuardia   \n",
       "8  MSP-ORD          Minneapolis-St Paul Intl   \n",
       "9  ORD-MSP      Chicago O'Hare International   \n",
       "\n",
       "                               Dest   2002   2003  \n",
       "0                         LaGuardia  11539  12662  \n",
       "1         Los Angeles International  12526  11177  \n",
       "2         Los Angeles International  11066  10498  \n",
       "3  Phoenix Sky Harbor International  11143  10345  \n",
       "4  Phoenix Sky Harbor International  11027  10518  \n",
       "5            McCarran International  12733  11262  \n",
       "6            McCarran International  11091  10219  \n",
       "7              Gen Edw L Logan Intl  11537  12568  \n",
       "8      Chicago O'Hare International  12007  12377  \n",
       "9          Minneapolis-St Paul Intl  11907  12254  "
      ]
     },
     "execution_count": 33,
     "metadata": {},
     "output_type": "execute_result"
    }
   ],
   "source": [
    "# Create data frames for each year's flight frequencies\n",
    "top_10_values_1 = top_10_values_1.reset_index().rename(columns={'index': 'location', 'location': 'frequency'})\n",
    "top_10_values_2 = top_10_values_2.reset_index().rename(columns={'index': 'location', 'location': 'frequency'})\n",
    "\n",
    "# Combine the data frames into one\n",
    "flight_data = pd.concat([top_10_values_1, top_10_values_2], ignore_index=True)\n",
    "flight_data['Year'] = pd.Series(['2002', '2003']).repeat(10).reset_index(drop=True)\n",
    "\n",
    "# Compute table\n",
    "flight_data_wide = flight_data.pivot(index='location', columns='Year', values='frequency').reset_index()\n",
    "flight_data_wide[['Origin', 'Dest']] = flight_data_wide['location'].str.split('-', expand=True)\n",
    "\n",
    "# join flight_data_wide with airports based on Origin and Dest columns\n",
    "flight_data_wide = flight_data_wide.merge(airports, left_on='Origin', right_on='iata').merge(airports, left_on='Dest', right_on='iata', suffixes=('_origin', '_dest'))\n",
    "\n",
    "# replace Origin and Dest columns with airport values\n",
    "flight_data_wide['Origin'] = flight_data_wide['airport_origin']\n",
    "flight_data_wide['Dest'] = flight_data_wide['airport_dest']\n",
    "\n",
    "# remove other columns\n",
    "flight_data_wide = flight_data_wide[['location','Origin', 'Dest', '2002', '2003']]\n",
    "flight_data_wide"
   ]
  },
  {
   "attachments": {},
   "cell_type": "markdown",
   "metadata": {},
   "source": [
    "Plot line chart"
   ]
  },
  {
   "cell_type": "code",
   "execution_count": 36,
   "metadata": {},
   "outputs": [
    {
     "data": {
      "image/png": "[encoded data removed]",
      "text/plain": [
       "<Figure size 1000x600 with 1 Axes>"
      ]
     },
     "metadata": {},
     "output_type": "display_data"
    }
   ],
   "source": [
    "# Create line chart\n",
    "fig, ax = plt.subplots(figsize=(10, 6))\n",
    "for year, color in zip(flight_data['Year'].unique(), ['red', 'blue']):\n",
    "    data = flight_data[flight_data['Year'] == year]\n",
    "    ax.plot(data['location'], data['frequency'], color=color, linewidth=2, label=year)\n",
    "\n",
    "# Set plot properties\n",
    "ax.set_xlabel('Location')\n",
    "ax.set_ylabel('Frequency')\n",
    "ax.set_title('Flight Frequencies among Different Locations')\n",
    "ax.legend()\n",
    "\n",
    "# Show the plot\n",
    "plt.show()"
   ]
  },
  {
   "attachments": {},
   "cell_type": "markdown",
   "metadata": {},
   "source": [
    "---"
   ]
  },
  {
   "attachments": {},
   "cell_type": "markdown",
   "metadata": {},
   "source": [
    "### Question 4"
   ]
  },
  {
   "cell_type": "code",
   "execution_count": 40,
   "metadata": {},
   "outputs": [],
   "source": [
    "def detector(Y, M, D, T1, T2, A):\n",
    "    lvl1 = df[(df['Year'] == Y) & (df['Month'] == M) & (df['DayofMonth'] == D) & \n",
    "              (df['CRSArrTime'] >= T1) & (df['CRSArrTime'] <= T2) & \n",
    "              (df['Dest'] == A) & (df['aDelay'] == 1)]\n",
    "    lvl2 = df[(df['Year'] == Y) & (df['Month'] == M) & (df['DayofMonth'] == D) & \n",
    "              (df['CRSDepTime'] >= T1) & (df['CRSDepTime'] <= T2) & \n",
    "              (df['Origin'] == A) & (df['dDelay'] == 1) & (df['aDelay'] == 1)]\n",
    "    if lvl1.shape[0] > 0 and lvl2.shape[0] > 0:\n",
    "        airport_name = airports.loc[airports['iata'] == A, 'airport'].iloc[0]\n",
    "        cascading_airports = airports.loc[airports['iata'].isin(lvl2['Dest']), 'airport'].to_list()\n",
    "        return f\"There was delay in {airport_name} airport from time {T1} to {T2}, which has created cascading delays in {', '.join(cascading_airports)}\"\n",
    "    elif lvl1.shape[0] > 0 and lvl2.shape[0] == 0:\n",
    "        airport_name = airports.loc[airports['iata'] == A, 'airport'].iloc[0]\n",
    "        return f\"There was delay in {airport_name} airport from time {T1} to {T2}, but it does not create any cascading delay in other airports.\"\n",
    "    else:\n",
    "        airport_name = airports.loc[airports['iata'] == A, 'airport'].iloc[0]\n",
    "        return f\"There was no delay in {airport_name} airport from time {T1} to {T2}. So, it did not cause any cascading delay in other airports.\"\n"
   ]
  },
  {
   "attachments": {},
   "cell_type": "markdown",
   "metadata": {},
   "source": [
    "Example 1:"
   ]
  },
  {
   "cell_type": "code",
   "execution_count": 41,
   "metadata": {},
   "outputs": [
    {
     "data": {
      "text/plain": [
       "'There was delay in Charlotte/Douglas International airport from time 1500 to 1600, which has created cascading delays in Gen Edw L Logan Intl, Piedmont Triad International, Myrtle Beach International, Philadelphia Intl'"
      ]
     },
     "execution_count": 41,
     "metadata": {},
     "output_type": "execute_result"
    }
   ],
   "source": [
    "detector(2002,1,31,1500,1600,'CLT')"
   ]
  },
  {
   "attachments": {},
   "cell_type": "markdown",
   "metadata": {},
   "source": [
    "Example 2:"
   ]
  },
  {
   "cell_type": "code",
   "execution_count": 42,
   "metadata": {},
   "outputs": [
    {
     "data": {
      "text/plain": [
       "'There was delay in Gen Edw L Logan Intl airport from time 2300 to 2400, but it does not create any cascading delay in other airports.'"
      ]
     },
     "execution_count": 42,
     "metadata": {},
     "output_type": "execute_result"
    }
   ],
   "source": [
    "detector(2003,2,22,2300,2400,'BOS')"
   ]
  },
  {
   "attachments": {},
   "cell_type": "markdown",
   "metadata": {},
   "source": [
    "Example 3:"
   ]
  },
  {
   "cell_type": "code",
   "execution_count": 43,
   "metadata": {},
   "outputs": [
    {
     "data": {
      "text/plain": [
       "'There was no delay in Phoenix Sky Harbor International airport from time 2200 to 2300. So, it did not cause any cascading delay in other airports.'"
      ]
     },
     "execution_count": 43,
     "metadata": {},
     "output_type": "execute_result"
    }
   ],
   "source": [
    "detector(2002,1,10,2200,2300,'PHX')"
   ]
  },
  {
   "attachments": {},
   "cell_type": "markdown",
   "metadata": {},
   "source": [
    "---"
   ]
  },
  {
   "attachments": {},
   "cell_type": "markdown",
   "metadata": {},
   "source": [
    "## Question 5"
   ]
  },
  {
   "attachments": {},
   "cell_type": "markdown",
   "metadata": {},
   "source": [
    "Split Data into Dependent and Independent Variables"
   ]
  },
  {
   "cell_type": "code",
   "execution_count": 84,
   "metadata": {},
   "outputs": [
    {
     "name": "stdout",
     "output_type": "stream",
     "text": [
      "   Year DayOfWeek dDelay       time seasons       age  Distance\n",
      "0  2002         1      0  1200-1800  Winter  3.046575      1608\n",
      "1  2002         6      1  1200-1800  Winter  3.079452      1608\n",
      "2  2002         2      0  1800-2400  Winter  3.049315      1608\n",
      "3  2002         7      0  1200-1800  Winter  3.082192       668\n",
      "4  2002         5      0  0600-1200  Winter  3.038356       956\n",
      "0    0\n",
      "1    1\n",
      "2    0\n",
      "3    0\n",
      "4    0\n",
      "Name: aDelay, dtype: category\n",
      "Categories (2, int64): [0, 1]\n"
     ]
    }
   ],
   "source": [
    "# refactor variables\n",
    "joindf[['aDelay', 'Year', 'DayOfWeek', 'dDelay', 'time', 'seasons']] = joindf[['aDelay', 'Year', 'DayOfWeek', 'dDelay', 'time', 'seasons']].astype('category')\n",
    "\n",
    "x_var = joindf[['Year', 'DayOfWeek', 'dDelay', 'time', 'seasons', 'age', 'Distance']].copy()\n",
    "print(x_var.head())\n",
    "\n",
    "y_var = joindf['aDelay'].copy()\n",
    "print(y_var.head())"
   ]
  },
  {
   "attachments": {},
   "cell_type": "markdown",
   "metadata": {},
   "source": [
    "Construct dummy variables for categorical data."
   ]
  },
  {
   "cell_type": "code",
   "execution_count": 85,
   "metadata": {},
   "outputs": [
    {
     "data": {
      "text/html": [
       "<div>\n",
       "<style scoped>\n",
       "    .dataframe tbody tr th:only-of-type {\n",
       "        vertical-align: middle;\n",
       "    }\n",
       "\n",
       "    .dataframe tbody tr th {\n",
       "        vertical-align: top;\n",
       "    }\n",
       "\n",
       "    .dataframe thead th {\n",
       "        text-align: right;\n",
       "    }\n",
       "</style>\n",
       "<table border=\"1\" class=\"dataframe\">\n",
       "  <thead>\n",
       "    <tr style=\"text-align: right;\">\n",
       "      <th></th>\n",
       "      <th>age</th>\n",
       "      <th>Distance</th>\n",
       "      <th>Year_2002</th>\n",
       "      <th>Year_2003</th>\n",
       "      <th>DayOfWeek_1</th>\n",
       "      <th>DayOfWeek_2</th>\n",
       "      <th>DayOfWeek_3</th>\n",
       "      <th>DayOfWeek_4</th>\n",
       "      <th>DayOfWeek_5</th>\n",
       "      <th>DayOfWeek_6</th>\n",
       "      <th>...</th>\n",
       "      <th>dDelay_0</th>\n",
       "      <th>dDelay_1</th>\n",
       "      <th>time_0000-0600</th>\n",
       "      <th>time_0600-1200</th>\n",
       "      <th>time_1200-1800</th>\n",
       "      <th>time_1800-2400</th>\n",
       "      <th>seasons_Autumn</th>\n",
       "      <th>seasons_Spring</th>\n",
       "      <th>seasons_Summer</th>\n",
       "      <th>seasons_Winter</th>\n",
       "    </tr>\n",
       "  </thead>\n",
       "  <tbody>\n",
       "    <tr>\n",
       "      <th>0</th>\n",
       "      <td>3.046575</td>\n",
       "      <td>1608</td>\n",
       "      <td>1</td>\n",
       "      <td>0</td>\n",
       "      <td>1</td>\n",
       "      <td>0</td>\n",
       "      <td>0</td>\n",
       "      <td>0</td>\n",
       "      <td>0</td>\n",
       "      <td>0</td>\n",
       "      <td>...</td>\n",
       "      <td>1</td>\n",
       "      <td>0</td>\n",
       "      <td>0</td>\n",
       "      <td>0</td>\n",
       "      <td>1</td>\n",
       "      <td>0</td>\n",
       "      <td>0</td>\n",
       "      <td>0</td>\n",
       "      <td>0</td>\n",
       "      <td>1</td>\n",
       "    </tr>\n",
       "    <tr>\n",
       "      <th>1</th>\n",
       "      <td>3.079452</td>\n",
       "      <td>1608</td>\n",
       "      <td>1</td>\n",
       "      <td>0</td>\n",
       "      <td>0</td>\n",
       "      <td>0</td>\n",
       "      <td>0</td>\n",
       "      <td>0</td>\n",
       "      <td>0</td>\n",
       "      <td>1</td>\n",
       "      <td>...</td>\n",
       "      <td>0</td>\n",
       "      <td>1</td>\n",
       "      <td>0</td>\n",
       "      <td>0</td>\n",
       "      <td>1</td>\n",
       "      <td>0</td>\n",
       "      <td>0</td>\n",
       "      <td>0</td>\n",
       "      <td>0</td>\n",
       "      <td>1</td>\n",
       "    </tr>\n",
       "    <tr>\n",
       "      <th>2</th>\n",
       "      <td>3.049315</td>\n",
       "      <td>1608</td>\n",
       "      <td>1</td>\n",
       "      <td>0</td>\n",
       "      <td>0</td>\n",
       "      <td>1</td>\n",
       "      <td>0</td>\n",
       "      <td>0</td>\n",
       "      <td>0</td>\n",
       "      <td>0</td>\n",
       "      <td>...</td>\n",
       "      <td>1</td>\n",
       "      <td>0</td>\n",
       "      <td>0</td>\n",
       "      <td>0</td>\n",
       "      <td>0</td>\n",
       "      <td>1</td>\n",
       "      <td>0</td>\n",
       "      <td>0</td>\n",
       "      <td>0</td>\n",
       "      <td>1</td>\n",
       "    </tr>\n",
       "    <tr>\n",
       "      <th>3</th>\n",
       "      <td>3.082192</td>\n",
       "      <td>668</td>\n",
       "      <td>1</td>\n",
       "      <td>0</td>\n",
       "      <td>0</td>\n",
       "      <td>0</td>\n",
       "      <td>0</td>\n",
       "      <td>0</td>\n",
       "      <td>0</td>\n",
       "      <td>0</td>\n",
       "      <td>...</td>\n",
       "      <td>1</td>\n",
       "      <td>0</td>\n",
       "      <td>0</td>\n",
       "      <td>0</td>\n",
       "      <td>1</td>\n",
       "      <td>0</td>\n",
       "      <td>0</td>\n",
       "      <td>0</td>\n",
       "      <td>0</td>\n",
       "      <td>1</td>\n",
       "    </tr>\n",
       "    <tr>\n",
       "      <th>4</th>\n",
       "      <td>3.038356</td>\n",
       "      <td>956</td>\n",
       "      <td>1</td>\n",
       "      <td>0</td>\n",
       "      <td>0</td>\n",
       "      <td>0</td>\n",
       "      <td>0</td>\n",
       "      <td>0</td>\n",
       "      <td>1</td>\n",
       "      <td>0</td>\n",
       "      <td>...</td>\n",
       "      <td>1</td>\n",
       "      <td>0</td>\n",
       "      <td>0</td>\n",
       "      <td>1</td>\n",
       "      <td>0</td>\n",
       "      <td>0</td>\n",
       "      <td>0</td>\n",
       "      <td>0</td>\n",
       "      <td>0</td>\n",
       "      <td>1</td>\n",
       "    </tr>\n",
       "  </tbody>\n",
       "</table>\n",
       "<p>5 rows × 21 columns</p>\n",
       "</div>"
      ],
      "text/plain": [
       "        age  Distance  Year_2002  Year_2003  DayOfWeek_1  DayOfWeek_2  \\\n",
       "0  3.046575      1608          1          0            1            0   \n",
       "1  3.079452      1608          1          0            0            0   \n",
       "2  3.049315      1608          1          0            0            1   \n",
       "3  3.082192       668          1          0            0            0   \n",
       "4  3.038356       956          1          0            0            0   \n",
       "\n",
       "   DayOfWeek_3  DayOfWeek_4  DayOfWeek_5  DayOfWeek_6  ...  dDelay_0  \\\n",
       "0            0            0            0            0  ...         1   \n",
       "1            0            0            0            1  ...         0   \n",
       "2            0            0            0            0  ...         1   \n",
       "3            0            0            0            0  ...         1   \n",
       "4            0            0            1            0  ...         1   \n",
       "\n",
       "   dDelay_1  time_0000-0600  time_0600-1200  time_1200-1800  time_1800-2400  \\\n",
       "0         0               0               0               1               0   \n",
       "1         1               0               0               1               0   \n",
       "2         0               0               0               0               1   \n",
       "3         0               0               0               1               0   \n",
       "4         0               0               1               0               0   \n",
       "\n",
       "   seasons_Autumn  seasons_Spring  seasons_Summer  seasons_Winter  \n",
       "0               0               0               0               1  \n",
       "1               0               0               0               1  \n",
       "2               0               0               0               1  \n",
       "3               0               0               0               1  \n",
       "4               0               0               0               1  \n",
       "\n",
       "[5 rows x 21 columns]"
      ]
     },
     "execution_count": 85,
     "metadata": {},
     "output_type": "execute_result"
    }
   ],
   "source": [
    "# set random seed\n",
    "np.random.seed(2002)\n",
    "\n",
    "# refactor variables\n",
    "x_encoded = pd.get_dummies(x_var, columns=['Year', 'DayOfWeek', 'dDelay', 'time', 'seasons'])\n",
    "x_encoded.head()"
   ]
  },
  {
   "cell_type": "code",
   "execution_count": 69,
   "metadata": {},
   "outputs": [
    {
     "data": {
      "text/html": [
       "<div>\n",
       "<style scoped>\n",
       "    .dataframe tbody tr th:only-of-type {\n",
       "        vertical-align: middle;\n",
       "    }\n",
       "\n",
       "    .dataframe tbody tr th {\n",
       "        vertical-align: top;\n",
       "    }\n",
       "\n",
       "    .dataframe thead th {\n",
       "        text-align: right;\n",
       "    }\n",
       "</style>\n",
       "<table border=\"1\" class=\"dataframe\">\n",
       "  <thead>\n",
       "    <tr style=\"text-align: right;\">\n",
       "      <th></th>\n",
       "      <th>age</th>\n",
       "      <th>Year_2002</th>\n",
       "      <th>Year_2003</th>\n",
       "      <th>DayOfWeek_1</th>\n",
       "      <th>DayOfWeek_2</th>\n",
       "      <th>DayOfWeek_3</th>\n",
       "      <th>DayOfWeek_4</th>\n",
       "      <th>DayOfWeek_5</th>\n",
       "      <th>DayOfWeek_6</th>\n",
       "      <th>DayOfWeek_7</th>\n",
       "      <th>dDelay_0</th>\n",
       "      <th>dDelay_1</th>\n",
       "      <th>time_0000-0600</th>\n",
       "      <th>time_0600-1200</th>\n",
       "      <th>time_1200-1800</th>\n",
       "      <th>time_1800-2400</th>\n",
       "      <th>seasons_Autumn</th>\n",
       "      <th>seasons_Spring</th>\n",
       "      <th>seasons_Summer</th>\n",
       "      <th>seasons_Winter</th>\n",
       "    </tr>\n",
       "  </thead>\n",
       "  <tbody>\n",
       "    <tr>\n",
       "      <th>0</th>\n",
       "      <td>3.046575</td>\n",
       "      <td>1</td>\n",
       "      <td>0</td>\n",
       "      <td>1</td>\n",
       "      <td>0</td>\n",
       "      <td>0</td>\n",
       "      <td>0</td>\n",
       "      <td>0</td>\n",
       "      <td>0</td>\n",
       "      <td>0</td>\n",
       "      <td>1</td>\n",
       "      <td>0</td>\n",
       "      <td>0</td>\n",
       "      <td>0</td>\n",
       "      <td>1</td>\n",
       "      <td>0</td>\n",
       "      <td>0</td>\n",
       "      <td>0</td>\n",
       "      <td>0</td>\n",
       "      <td>1</td>\n",
       "    </tr>\n",
       "    <tr>\n",
       "      <th>1</th>\n",
       "      <td>3.079452</td>\n",
       "      <td>1</td>\n",
       "      <td>0</td>\n",
       "      <td>0</td>\n",
       "      <td>0</td>\n",
       "      <td>0</td>\n",
       "      <td>0</td>\n",
       "      <td>0</td>\n",
       "      <td>1</td>\n",
       "      <td>0</td>\n",
       "      <td>0</td>\n",
       "      <td>1</td>\n",
       "      <td>0</td>\n",
       "      <td>0</td>\n",
       "      <td>1</td>\n",
       "      <td>0</td>\n",
       "      <td>0</td>\n",
       "      <td>0</td>\n",
       "      <td>0</td>\n",
       "      <td>1</td>\n",
       "    </tr>\n",
       "    <tr>\n",
       "      <th>2</th>\n",
       "      <td>3.049315</td>\n",
       "      <td>1</td>\n",
       "      <td>0</td>\n",
       "      <td>0</td>\n",
       "      <td>1</td>\n",
       "      <td>0</td>\n",
       "      <td>0</td>\n",
       "      <td>0</td>\n",
       "      <td>0</td>\n",
       "      <td>0</td>\n",
       "      <td>1</td>\n",
       "      <td>0</td>\n",
       "      <td>0</td>\n",
       "      <td>0</td>\n",
       "      <td>0</td>\n",
       "      <td>1</td>\n",
       "      <td>0</td>\n",
       "      <td>0</td>\n",
       "      <td>0</td>\n",
       "      <td>1</td>\n",
       "    </tr>\n",
       "    <tr>\n",
       "      <th>3</th>\n",
       "      <td>3.082192</td>\n",
       "      <td>1</td>\n",
       "      <td>0</td>\n",
       "      <td>0</td>\n",
       "      <td>0</td>\n",
       "      <td>0</td>\n",
       "      <td>0</td>\n",
       "      <td>0</td>\n",
       "      <td>0</td>\n",
       "      <td>1</td>\n",
       "      <td>1</td>\n",
       "      <td>0</td>\n",
       "      <td>0</td>\n",
       "      <td>0</td>\n",
       "      <td>1</td>\n",
       "      <td>0</td>\n",
       "      <td>0</td>\n",
       "      <td>0</td>\n",
       "      <td>0</td>\n",
       "      <td>1</td>\n",
       "    </tr>\n",
       "    <tr>\n",
       "      <th>4</th>\n",
       "      <td>3.038356</td>\n",
       "      <td>1</td>\n",
       "      <td>0</td>\n",
       "      <td>0</td>\n",
       "      <td>0</td>\n",
       "      <td>0</td>\n",
       "      <td>0</td>\n",
       "      <td>1</td>\n",
       "      <td>0</td>\n",
       "      <td>0</td>\n",
       "      <td>1</td>\n",
       "      <td>0</td>\n",
       "      <td>0</td>\n",
       "      <td>1</td>\n",
       "      <td>0</td>\n",
       "      <td>0</td>\n",
       "      <td>0</td>\n",
       "      <td>0</td>\n",
       "      <td>0</td>\n",
       "      <td>1</td>\n",
       "    </tr>\n",
       "  </tbody>\n",
       "</table>\n",
       "</div>"
      ],
      "text/plain": [
       "        age  Year_2002  Year_2003  DayOfWeek_1  DayOfWeek_2  DayOfWeek_3  \\\n",
       "0  3.046575          1          0            1            0            0   \n",
       "1  3.079452          1          0            0            0            0   \n",
       "2  3.049315          1          0            0            1            0   \n",
       "3  3.082192          1          0            0            0            0   \n",
       "4  3.038356          1          0            0            0            0   \n",
       "\n",
       "   DayOfWeek_4  DayOfWeek_5  DayOfWeek_6  DayOfWeek_7  dDelay_0  dDelay_1  \\\n",
       "0            0            0            0            0         1         0   \n",
       "1            0            0            1            0         0         1   \n",
       "2            0            0            0            0         1         0   \n",
       "3            0            0            0            1         1         0   \n",
       "4            0            1            0            0         1         0   \n",
       "\n",
       "   time_0000-0600  time_0600-1200  time_1200-1800  time_1800-2400  \\\n",
       "0               0               0               1               0   \n",
       "1               0               0               1               0   \n",
       "2               0               0               0               1   \n",
       "3               0               0               1               0   \n",
       "4               0               1               0               0   \n",
       "\n",
       "   seasons_Autumn  seasons_Spring  seasons_Summer  seasons_Winter  \n",
       "0               0               0               0               1  \n",
       "1               0               0               0               1  \n",
       "2               0               0               0               1  \n",
       "3               0               0               0               1  \n",
       "4               0               0               0               1  "
      ]
     },
     "execution_count": 69,
     "metadata": {},
     "output_type": "execute_result"
    }
   ],
   "source": [
    "x_encoded.head()"
   ]
  },
  {
   "attachments": {},
   "cell_type": "markdown",
   "metadata": {},
   "source": [
    "Perform train test split"
   ]
  },
  {
   "cell_type": "code",
   "execution_count": 86,
   "metadata": {},
   "outputs": [],
   "source": [
    "# Split the data into trainset and testset\n",
    "x_train, x_test, y_train, y_test = train_test_split(x_encoded, y_var, test_size = 0.3, random_state= 39) "
   ]
  },
  {
   "attachments": {},
   "cell_type": "markdown",
   "metadata": {},
   "source": [
    "Construct logistic regression model that predict flight arrival delay by these variables, year, day of week, age, distance, departure delay, time of day and season of the year."
   ]
  },
  {
   "cell_type": "code",
   "execution_count": 96,
   "metadata": {},
   "outputs": [
    {
     "name": "stderr",
     "output_type": "stream",
     "text": [
      "c:\\Users\\user\\AppData\\Local\\Programs\\Python\\Python311\\Lib\\site-packages\\sklearn\\linear_model\\_logistic.py:444: ConvergenceWarning: lbfgs failed to converge (status=1):\n",
      "STOP: TOTAL NO. of ITERATIONS REACHED LIMIT.\n",
      "\n",
      "Increase the number of iterations (max_iter) or scale the data as shown in:\n",
      "    https://scikit-learn.org/stable/modules/preprocessing.html\n",
      "Please also refer to the documentation for alternative solver options:\n",
      "    https://scikit-learn.org/stable/modules/linear_model.html#logistic-regression\n",
      "  n_iter_i = _check_optimize_result(\n"
     ]
    },
    {
     "data": {
      "text/html": [
       "<style>#sk-container-id-1 {color: black;background-color: white;}#sk-container-id-1 pre{padding: 0;}#sk-container-id-1 div.sk-toggleable {background-color: white;}#sk-container-id-1 label.sk-toggleable__label {cursor: pointer;display: block;width: 100%;margin-bottom: 0;padding: 0.3em;box-sizing: border-box;text-align: center;}#sk-container-id-1 label.sk-toggleable__label-arrow:before {content: \"▸\";float: left;margin-right: 0.25em;color: #696969;}#sk-container-id-1 label.sk-toggleable__label-arrow:hover:before {color: black;}#sk-container-id-1 div.sk-estimator:hover label.sk-toggleable__label-arrow:before {color: black;}#sk-container-id-1 div.sk-toggleable__content {max-height: 0;max-width: 0;overflow: hidden;text-align: left;background-color: #f0f8ff;}#sk-container-id-1 div.sk-toggleable__content pre {margin: 0.2em;color: black;border-radius: 0.25em;background-color: #f0f8ff;}#sk-container-id-1 input.sk-toggleable__control:checked~div.sk-toggleable__content {max-height: 200px;max-width: 100%;overflow: auto;}#sk-container-id-1 input.sk-toggleable__control:checked~label.sk-toggleable__label-arrow:before {content: \"▾\";}#sk-container-id-1 div.sk-estimator input.sk-toggleable__control:checked~label.sk-toggleable__label {background-color: #d4ebff;}#sk-container-id-1 div.sk-label input.sk-toggleable__control:checked~label.sk-toggleable__label {background-color: #d4ebff;}#sk-container-id-1 input.sk-hidden--visually {border: 0;clip: rect(1px 1px 1px 1px);clip: rect(1px, 1px, 1px, 1px);height: 1px;margin: -1px;overflow: hidden;padding: 0;position: absolute;width: 1px;}#sk-container-id-1 div.sk-estimator {font-family: monospace;background-color: #f0f8ff;border: 1px dotted black;border-radius: 0.25em;box-sizing: border-box;margin-bottom: 0.5em;}#sk-container-id-1 div.sk-estimator:hover {background-color: #d4ebff;}#sk-container-id-1 div.sk-parallel-item::after {content: \"\";width: 100%;border-bottom: 1px solid gray;flex-grow: 1;}#sk-container-id-1 div.sk-label:hover label.sk-toggleable__label {background-color: #d4ebff;}#sk-container-id-1 div.sk-serial::before {content: \"\";position: absolute;border-left: 1px solid gray;box-sizing: border-box;top: 0;bottom: 0;left: 50%;z-index: 0;}#sk-container-id-1 div.sk-serial {display: flex;flex-direction: column;align-items: center;background-color: white;padding-right: 0.2em;padding-left: 0.2em;position: relative;}#sk-container-id-1 div.sk-item {position: relative;z-index: 1;}#sk-container-id-1 div.sk-parallel {display: flex;align-items: stretch;justify-content: center;background-color: white;position: relative;}#sk-container-id-1 div.sk-item::before, #sk-container-id-1 div.sk-parallel-item::before {content: \"\";position: absolute;border-left: 1px solid gray;box-sizing: border-box;top: 0;bottom: 0;left: 50%;z-index: -1;}#sk-container-id-1 div.sk-parallel-item {display: flex;flex-direction: column;z-index: 1;position: relative;background-color: white;}#sk-container-id-1 div.sk-parallel-item:first-child::after {align-self: flex-end;width: 50%;}#sk-container-id-1 div.sk-parallel-item:last-child::after {align-self: flex-start;width: 50%;}#sk-container-id-1 div.sk-parallel-item:only-child::after {width: 0;}#sk-container-id-1 div.sk-dashed-wrapped {border: 1px dashed gray;margin: 0 0.4em 0.5em 0.4em;box-sizing: border-box;padding-bottom: 0.4em;background-color: white;}#sk-container-id-1 div.sk-label label {font-family: monospace;font-weight: bold;display: inline-block;line-height: 1.2em;}#sk-container-id-1 div.sk-label-container {text-align: center;}#sk-container-id-1 div.sk-container {/* jupyter's `normalize.less` sets `[hidden] { display: none; }` but bootstrap.min.css set `[hidden] { display: none !important; }` so we also need the `!important` here to be able to override the default hidden behavior on the sphinx rendered scikit-learn.org. See: https://github.com/scikit-learn/scikit-learn/issues/21755 */display: inline-block !important;position: relative;}#sk-container-id-1 div.sk-text-repr-fallback {display: none;}</style><div id=\"sk-container-id-1\" class=\"sk-top-container\"><div class=\"sk-text-repr-fallback\"><pre>LogisticRegression()</pre><b>In a Jupyter environment, please rerun this cell to show the HTML representation or trust the notebook. <br />On GitHub, the HTML representation is unable to render, please try loading this page with nbviewer.org.</b></div><div class=\"sk-container\" hidden><div class=\"sk-item\"><div class=\"sk-estimator sk-toggleable\"><input class=\"sk-toggleable__control sk-hidden--visually\" id=\"sk-estimator-id-1\" type=\"checkbox\" checked><label for=\"sk-estimator-id-1\" class=\"sk-toggleable__label sk-toggleable__label-arrow\">LogisticRegression</label><div class=\"sk-toggleable__content\"><pre>LogisticRegression()</pre></div></div></div></div></div>"
      ],
      "text/plain": [
       "LogisticRegression()"
      ]
     },
     "execution_count": 96,
     "metadata": {},
     "output_type": "execute_result"
    }
   ],
   "source": [
    "# build logistic regression model\n",
    "logistic = LogisticRegression()\n",
    "logistic.fit(x_train, y_train)"
   ]
  },
  {
   "cell_type": "code",
   "execution_count": 91,
   "metadata": {},
   "outputs": [
    {
     "name": "stdout",
     "output_type": "stream",
     "text": [
      "[[1009155   25399]\n",
      " [  84184  121276]]\n",
      "Accuracy: 0.9116276106560087\n",
      "Specificity: 0.9754493240565499\n",
      "Sensitivity: 0.5902657451572082\n",
      "F1 Score:\n",
      "              precision    recall  f1-score   support\n",
      "\n",
      "           0       0.92      0.98      0.95   1034554\n",
      "           1       0.83      0.59      0.69    205460\n",
      "\n",
      "    accuracy                           0.91   1240014\n",
      "   macro avg       0.87      0.78      0.82   1240014\n",
      "weighted avg       0.91      0.91      0.91   1240014\n",
      "\n",
      "AUC: 0.782857534606879\n"
     ]
    },
    {
     "data": {
      "image/png": "[encoded data removed]",
      "text/plain": [
       "<Figure size 640x480 with 1 Axes>"
      ]
     },
     "metadata": {},
     "output_type": "display_data"
    }
   ],
   "source": [
    "# get predicted values\n",
    "y_pred = logistic.predict(x_test)\n",
    "\n",
    "# create confusion matrix\n",
    "cm = confusion_matrix(y_test, y_pred)\n",
    "print(cm)\n",
    "\n",
    "# calculate accuracy, specificity, and sensitivity\n",
    "tn, fp, fn, tp = cm.ravel()\n",
    "accuracy = (tp + tn) / (tp + tn + fp + fn)\n",
    "specificity = tn / (tn + fp)\n",
    "sensitivity = tp / (tp + fn)\n",
    "\n",
    "print('Accuracy:', accuracy)\n",
    "print('Specificity:', specificity)\n",
    "print('Sensitivity:', sensitivity)\n",
    "\n",
    "# calculate F1 score\n",
    "f1_score = classification_report(y_test, y_pred)\n",
    "print('F1 Score:')\n",
    "print(f1_score)\n",
    "\n",
    "# calculate AUC\n",
    "auc = roc_auc_score(y_test, y_pred)\n",
    "print('AUC:', auc)\n",
    "\n",
    "# create ROC curve\n",
    "fpr, tpr, thresholds = roc_curve(y_test, y_pred)\n",
    "plt.plot(fpr, tpr)\n",
    "plt.plot([0, 1], [0, 1], linestyle='--')\n",
    "plt.xlabel('False Positive Rate')\n",
    "plt.ylabel('True Positive Rate')\n",
    "plt.title('ROC Curve')\n",
    "plt.show()\n"
   ]
  }
 ],
 "metadata": {
  "kernelspec": {
   "display_name": "Python 3",
   "language": "python",
   "name": "python3"
  },
  "language_info": {
   "codemirror_mode": {
    "name": "ipython",
    "version": 3
   },
   "file_extension": ".py",
   "mimetype": "text/x-python",
   "name": "python",
   "nbconvert_exporter": "python",
   "pygments_lexer": "ipython3",
   "version": "3.11.0"
  },
  "orig_nbformat": 4
 },
 "nbformat": 4,
 "nbformat_minor": 2
}
